{
 "cells": [
  {
   "cell_type": "code",
   "execution_count": 1,
   "metadata": {},
   "outputs": [],
   "source": [
    "# Data Preprocessing \n",
    "# Build The RNN \n",
    "# Making the prediction & Visualization"
   ]
  },
  {
   "cell_type": "code",
   "execution_count": 2,
   "metadata": {},
   "outputs": [],
   "source": [
    "import numpy as np \n",
    "import matplotlib.pyplot as plt \n",
    "import pandas as pd\n",
    "from sklearn.preprocessing import MinMaxScaler"
   ]
  },
  {
   "cell_type": "code",
   "execution_count": 3,
   "metadata": {},
   "outputs": [
    {
     "data": {
      "text/plain": [
       "'C:\\\\Users\\\\Owner'"
      ]
     },
     "execution_count": 3,
     "metadata": {},
     "output_type": "execute_result"
    }
   ],
   "source": [
    "pwd"
   ]
  },
  {
   "cell_type": "code",
   "execution_count": 4,
   "metadata": {},
   "outputs": [
    {
     "data": {
      "text/html": [
       "<div>\n",
       "<style scoped>\n",
       "    .dataframe tbody tr th:only-of-type {\n",
       "        vertical-align: middle;\n",
       "    }\n",
       "\n",
       "    .dataframe tbody tr th {\n",
       "        vertical-align: top;\n",
       "    }\n",
       "\n",
       "    .dataframe thead th {\n",
       "        text-align: right;\n",
       "    }\n",
       "</style>\n",
       "<table border=\"1\" class=\"dataframe\">\n",
       "  <thead>\n",
       "    <tr style=\"text-align: right;\">\n",
       "      <th></th>\n",
       "      <th>Date</th>\n",
       "      <th>Open</th>\n",
       "      <th>High</th>\n",
       "      <th>Low</th>\n",
       "      <th>Close</th>\n",
       "      <th>Adj Close</th>\n",
       "      <th>Volume</th>\n",
       "    </tr>\n",
       "  </thead>\n",
       "  <tbody>\n",
       "    <tr>\n",
       "      <th>0</th>\n",
       "      <td>1/2/2008</td>\n",
       "      <td>7.116786</td>\n",
       "      <td>7.152143</td>\n",
       "      <td>6.876786</td>\n",
       "      <td>6.958571</td>\n",
       "      <td>6.013175</td>\n",
       "      <td>1079178800</td>\n",
       "    </tr>\n",
       "    <tr>\n",
       "      <th>1</th>\n",
       "      <td>1/3/2008</td>\n",
       "      <td>6.978929</td>\n",
       "      <td>7.049643</td>\n",
       "      <td>6.881786</td>\n",
       "      <td>6.961786</td>\n",
       "      <td>6.015953</td>\n",
       "      <td>842066400</td>\n",
       "    </tr>\n",
       "    <tr>\n",
       "      <th>2</th>\n",
       "      <td>1/4/2008</td>\n",
       "      <td>6.837500</td>\n",
       "      <td>6.892857</td>\n",
       "      <td>6.388928</td>\n",
       "      <td>6.430357</td>\n",
       "      <td>5.556723</td>\n",
       "      <td>1455832000</td>\n",
       "    </tr>\n",
       "    <tr>\n",
       "      <th>3</th>\n",
       "      <td>1/7/2008</td>\n",
       "      <td>6.473214</td>\n",
       "      <td>6.557143</td>\n",
       "      <td>6.079643</td>\n",
       "      <td>6.344285</td>\n",
       "      <td>5.482346</td>\n",
       "      <td>2072193200</td>\n",
       "    </tr>\n",
       "    <tr>\n",
       "      <th>4</th>\n",
       "      <td>1/8/2008</td>\n",
       "      <td>6.433571</td>\n",
       "      <td>6.516428</td>\n",
       "      <td>6.100000</td>\n",
       "      <td>6.116071</td>\n",
       "      <td>5.285137</td>\n",
       "      <td>1523816000</td>\n",
       "    </tr>\n",
       "    <tr>\n",
       "      <th>...</th>\n",
       "      <td>...</td>\n",
       "      <td>...</td>\n",
       "      <td>...</td>\n",
       "      <td>...</td>\n",
       "      <td>...</td>\n",
       "      <td>...</td>\n",
       "      <td>...</td>\n",
       "    </tr>\n",
       "    <tr>\n",
       "      <th>3015</th>\n",
       "      <td>12/23/2019</td>\n",
       "      <td>70.132500</td>\n",
       "      <td>71.062500</td>\n",
       "      <td>70.092499</td>\n",
       "      <td>71.000000</td>\n",
       "      <td>70.513535</td>\n",
       "      <td>98572000</td>\n",
       "    </tr>\n",
       "    <tr>\n",
       "      <th>3016</th>\n",
       "      <td>12/24/2019</td>\n",
       "      <td>71.172501</td>\n",
       "      <td>71.222504</td>\n",
       "      <td>70.730003</td>\n",
       "      <td>71.067497</td>\n",
       "      <td>70.580566</td>\n",
       "      <td>48478800</td>\n",
       "    </tr>\n",
       "    <tr>\n",
       "      <th>3017</th>\n",
       "      <td>12/26/2019</td>\n",
       "      <td>71.205002</td>\n",
       "      <td>72.495003</td>\n",
       "      <td>71.175003</td>\n",
       "      <td>72.477501</td>\n",
       "      <td>71.980911</td>\n",
       "      <td>93121200</td>\n",
       "    </tr>\n",
       "    <tr>\n",
       "      <th>3018</th>\n",
       "      <td>12/27/2019</td>\n",
       "      <td>72.779999</td>\n",
       "      <td>73.492500</td>\n",
       "      <td>72.029999</td>\n",
       "      <td>72.449997</td>\n",
       "      <td>71.953598</td>\n",
       "      <td>146266000</td>\n",
       "    </tr>\n",
       "    <tr>\n",
       "      <th>3019</th>\n",
       "      <td>12/30/2019</td>\n",
       "      <td>72.364998</td>\n",
       "      <td>73.172501</td>\n",
       "      <td>71.305000</td>\n",
       "      <td>72.879997</td>\n",
       "      <td>72.380653</td>\n",
       "      <td>144114400</td>\n",
       "    </tr>\n",
       "  </tbody>\n",
       "</table>\n",
       "<p>3020 rows × 7 columns</p>\n",
       "</div>"
      ],
      "text/plain": [
       "            Date       Open       High        Low      Close  Adj Close  \\\n",
       "0       1/2/2008   7.116786   7.152143   6.876786   6.958571   6.013175   \n",
       "1       1/3/2008   6.978929   7.049643   6.881786   6.961786   6.015953   \n",
       "2       1/4/2008   6.837500   6.892857   6.388928   6.430357   5.556723   \n",
       "3       1/7/2008   6.473214   6.557143   6.079643   6.344285   5.482346   \n",
       "4       1/8/2008   6.433571   6.516428   6.100000   6.116071   5.285137   \n",
       "...          ...        ...        ...        ...        ...        ...   \n",
       "3015  12/23/2019  70.132500  71.062500  70.092499  71.000000  70.513535   \n",
       "3016  12/24/2019  71.172501  71.222504  70.730003  71.067497  70.580566   \n",
       "3017  12/26/2019  71.205002  72.495003  71.175003  72.477501  71.980911   \n",
       "3018  12/27/2019  72.779999  73.492500  72.029999  72.449997  71.953598   \n",
       "3019  12/30/2019  72.364998  73.172501  71.305000  72.879997  72.380653   \n",
       "\n",
       "          Volume  \n",
       "0     1079178800  \n",
       "1      842066400  \n",
       "2     1455832000  \n",
       "3     2072193200  \n",
       "4     1523816000  \n",
       "...          ...  \n",
       "3015    98572000  \n",
       "3016    48478800  \n",
       "3017    93121200  \n",
       "3018   146266000  \n",
       "3019   144114400  \n",
       "\n",
       "[3020 rows x 7 columns]"
      ]
     },
     "execution_count": 4,
     "metadata": {},
     "output_type": "execute_result"
    }
   ],
   "source": [
    "data = pd.read_csv(r\"C:\\\\Users\\\\Owner\\Desktop\\aapl.csv\")\n",
    "data                    "
   ]
  },
  {
   "cell_type": "code",
   "execution_count": 5,
   "metadata": {},
   "outputs": [],
   "source": [
    "data_training = data[data['Date'] < '2019-01-01'].copy()\n",
    "data_testing = data[data['Date'] >= '2019-01-01'].copy()"
   ]
  },
  {
   "cell_type": "code",
   "execution_count": 6,
   "metadata": {},
   "outputs": [],
   "source": [
    "data_training = data_training.drop(['Date', 'Adj Close'], axis = 1)"
   ]
  },
  {
   "cell_type": "code",
   "execution_count": 7,
   "metadata": {},
   "outputs": [
    {
     "data": {
      "text/plain": [
       "array([[0.06121168, 0.05985455, 0.05898466, 0.05943621, 0.31056649],\n",
       "       [0.05924073, 0.05840196, 0.05905687, 0.05948208, 0.23929877],\n",
       "       [0.05721872, 0.05618006, 0.05193847, 0.05189968, 0.4237753 ],\n",
       "       ...,\n",
       "       [0.97748224, 0.98586392, 0.98765119, 0.99425721, 0.01419196],\n",
       "       [1.        , 1.        , 1.        , 0.99386478, 0.03016544],\n",
       "       [0.99406672, 0.99546512, 0.98952876, 1.        , 0.02951874]])"
      ]
     },
     "execution_count": 7,
     "metadata": {},
     "output_type": "execute_result"
    }
   ],
   "source": [
    "scaler = MinMaxScaler()\n",
    "data_training = scaler.fit_transform(data_training)\n",
    "data_training"
   ]
  },
  {
   "cell_type": "code",
   "execution_count": 8,
   "metadata": {},
   "outputs": [],
   "source": [
    "x_train = []\n",
    "y_train = []\n",
    "\n",
    "for i in range(60, data_training.shape[0]):\n",
    "    x_train.append(data_training[i-60:i])\n",
    "    y_train.append(data_training[i, 0])\n",
    "\n",
    "x_train = np.array(x_train)\n",
    "y_train = np.array(y_train)"
   ]
  },
  {
   "cell_type": "code",
   "execution_count": 9,
   "metadata": {},
   "outputs": [
    {
     "data": {
      "text/plain": [
       "(1175, 60, 5)"
      ]
     },
     "execution_count": 9,
     "metadata": {},
     "output_type": "execute_result"
    }
   ],
   "source": [
    "x_train.shape"
   ]
  },
  {
   "cell_type": "code",
   "execution_count": 10,
   "metadata": {},
   "outputs": [],
   "source": [
    "from tensorflow.keras import Sequential\n",
    "from tensorflow.keras.layers import Dense, LSTM, Dropout"
   ]
  },
  {
   "cell_type": "code",
   "execution_count": 11,
   "metadata": {},
   "outputs": [],
   "source": [
    "regressor = Sequential()\n",
    "\n",
    "regressor.add(LSTM(units = 60, activation = 'relu', return_sequences = True, input_shape = (x_train.shape[1], 5)))\n",
    "regressor.add(Dropout(0.2))\n",
    "\n",
    "regressor.add(LSTM(units = 60, activation = 'relu', return_sequences = True))\n",
    "regressor.add(Dropout(0.2))\n",
    "\n",
    "regressor.add(LSTM(units = 80, activation = 'relu', return_sequences = True))\n",
    "regressor.add(Dropout(0.2))\n",
    "\n",
    "regressor.add(LSTM(units = 120, activation = 'relu'))\n",
    "regressor.add(Dropout(0.2))\n",
    "\n",
    "regressor.add(Dense(units = 1))"
   ]
  },
  {
   "cell_type": "code",
   "execution_count": 12,
   "metadata": {},
   "outputs": [
    {
     "name": "stdout",
     "output_type": "stream",
     "text": [
      "Model: \"sequential\"\n",
      "_________________________________________________________________\n",
      "Layer (type)                 Output Shape              Param #   \n",
      "=================================================================\n",
      "lstm (LSTM)                  (None, 60, 60)            15840     \n",
      "_________________________________________________________________\n",
      "dropout (Dropout)            (None, 60, 60)            0         \n",
      "_________________________________________________________________\n",
      "lstm_1 (LSTM)                (None, 60, 60)            29040     \n",
      "_________________________________________________________________\n",
      "dropout_1 (Dropout)          (None, 60, 60)            0         \n",
      "_________________________________________________________________\n",
      "lstm_2 (LSTM)                (None, 60, 80)            45120     \n",
      "_________________________________________________________________\n",
      "dropout_2 (Dropout)          (None, 60, 80)            0         \n",
      "_________________________________________________________________\n",
      "lstm_3 (LSTM)                (None, 120)               96480     \n",
      "_________________________________________________________________\n",
      "dropout_3 (Dropout)          (None, 120)               0         \n",
      "_________________________________________________________________\n",
      "dense (Dense)                (None, 1)                 121       \n",
      "=================================================================\n",
      "Total params: 186,601\n",
      "Trainable params: 186,601\n",
      "Non-trainable params: 0\n",
      "_________________________________________________________________\n"
     ]
    }
   ],
   "source": [
    "regressor.summary()"
   ]
  },
  {
   "cell_type": "code",
   "execution_count": 14,
   "metadata": {},
   "outputs": [
    {
     "name": "stdout",
     "output_type": "stream",
     "text": [
      "Epoch 1/150\n",
      "37/37 [==============================] - 5s 137ms/step - loss: 0.0292\n",
      "Epoch 2/150\n",
      "37/37 [==============================] - 5s 134ms/step - loss: 0.0055\n",
      "Epoch 3/150\n",
      "37/37 [==============================] - 5s 134ms/step - loss: 0.0033\n",
      "Epoch 4/150\n",
      "37/37 [==============================] - 5s 129ms/step - loss: 0.0030\n",
      "Epoch 5/150\n",
      "37/37 [==============================] - 5s 130ms/step - loss: 0.0032\n",
      "Epoch 6/150\n",
      "37/37 [==============================] - 5s 129ms/step - loss: 0.0029\n",
      "Epoch 7/150\n",
      "37/37 [==============================] - 5s 136ms/step - loss: 0.0029\n",
      "Epoch 8/150\n",
      "37/37 [==============================] - 5s 134ms/step - loss: 0.0027\n",
      "Epoch 9/150\n",
      "37/37 [==============================] - 5s 131ms/step - loss: 0.0027\n",
      "Epoch 10/150\n",
      "37/37 [==============================] - 5s 135ms/step - loss: 0.0023\n",
      "Epoch 11/150\n",
      "37/37 [==============================] - 5s 141ms/step - loss: 0.0026\n",
      "Epoch 12/150\n",
      "37/37 [==============================] - 5s 141ms/step - loss: 0.0022\n",
      "Epoch 13/150\n",
      "37/37 [==============================] - 5s 142ms/step - loss: 0.0023\n",
      "Epoch 14/150\n",
      "37/37 [==============================] - 5s 144ms/step - loss: 0.0025\n",
      "Epoch 15/150\n",
      "37/37 [==============================] - 5s 141ms/step - loss: 0.0021\n",
      "Epoch 16/150\n",
      "37/37 [==============================] - 5s 141ms/step - loss: 0.0020\n",
      "Epoch 17/150\n",
      "37/37 [==============================] - 5s 140ms/step - loss: 0.0021\n",
      "Epoch 18/150\n",
      "37/37 [==============================] - 5s 140ms/step - loss: 0.0020\n",
      "Epoch 19/150\n",
      "37/37 [==============================] - 5s 142ms/step - loss: 0.0022\n",
      "Epoch 20/150\n",
      "37/37 [==============================] - 6s 150ms/step - loss: 0.0019\n",
      "Epoch 21/150\n",
      "37/37 [==============================] - 5s 141ms/step - loss: 0.0019\n",
      "Epoch 22/150\n",
      "37/37 [==============================] - 5s 141ms/step - loss: 0.0017\n",
      "Epoch 23/150\n",
      "37/37 [==============================] - 5s 143ms/step - loss: 0.0018\n",
      "Epoch 24/150\n",
      "37/37 [==============================] - 5s 147ms/step - loss: 0.0018\n",
      "Epoch 25/150\n",
      "37/37 [==============================] - 5s 141ms/step - loss: 0.0021\n",
      "Epoch 26/150\n",
      "37/37 [==============================] - 5s 144ms/step - loss: 0.0018\n",
      "Epoch 27/150\n",
      "37/37 [==============================] - 6s 152ms/step - loss: 0.0016\n",
      "Epoch 28/150\n",
      "37/37 [==============================] - 5s 143ms/step - loss: 0.0015\n",
      "Epoch 29/150\n",
      "37/37 [==============================] - 5s 147ms/step - loss: 0.0016\n",
      "Epoch 30/150\n",
      "37/37 [==============================] - 5s 143ms/step - loss: 0.0017\n",
      "Epoch 31/150\n",
      "37/37 [==============================] - 5s 145ms/step - loss: 0.0018\n",
      "Epoch 32/150\n",
      "37/37 [==============================] - 5s 148ms/step - loss: 0.0014\n",
      "Epoch 33/150\n",
      "37/37 [==============================] - 5s 141ms/step - loss: 0.0018\n",
      "Epoch 34/150\n",
      "37/37 [==============================] - 5s 141ms/step - loss: 0.0015\n",
      "Epoch 35/150\n",
      "37/37 [==============================] - 5s 142ms/step - loss: 0.0014\n",
      "Epoch 36/150\n",
      "37/37 [==============================] - 5s 141ms/step - loss: 0.0015\n",
      "Epoch 37/150\n",
      "37/37 [==============================] - 5s 141ms/step - loss: 0.0015\n",
      "Epoch 38/150\n",
      "37/37 [==============================] - 5s 142ms/step - loss: 0.0016\n",
      "Epoch 39/150\n",
      "37/37 [==============================] - 5s 143ms/step - loss: 0.0015\n",
      "Epoch 40/150\n",
      "37/37 [==============================] - 5s 141ms/step - loss: 0.0015\n",
      "Epoch 41/150\n",
      "37/37 [==============================] - 5s 140ms/step - loss: 0.0012\n",
      "Epoch 42/150\n",
      "37/37 [==============================] - 5s 144ms/step - loss: 0.0013\n",
      "Epoch 43/150\n",
      "37/37 [==============================] - 5s 141ms/step - loss: 0.0016\n",
      "Epoch 44/150\n",
      "37/37 [==============================] - 5s 141ms/step - loss: 0.0015\n",
      "Epoch 45/150\n",
      "37/37 [==============================] - 5s 142ms/step - loss: 0.0010\n",
      "Epoch 46/150\n",
      "37/37 [==============================] - 5s 141ms/step - loss: 0.0013\n",
      "Epoch 47/150\n",
      "37/37 [==============================] - 5s 141ms/step - loss: 0.0013\n",
      "Epoch 48/150\n",
      "37/37 [==============================] - 5s 141ms/step - loss: 0.0012\n",
      "Epoch 49/150\n",
      "37/37 [==============================] - 5s 148ms/step - loss: 0.0013\n",
      "Epoch 50/150\n",
      "37/37 [==============================] - 6s 150ms/step - loss: 0.0011\n",
      "Epoch 51/150\n",
      "37/37 [==============================] - 5s 142ms/step - loss: 0.0013\n",
      "Epoch 52/150\n",
      "37/37 [==============================] - 5s 147ms/step - loss: 0.0013\n",
      "Epoch 53/150\n",
      "37/37 [==============================] - 5s 144ms/step - loss: 0.0011\n",
      "Epoch 54/150\n",
      "37/37 [==============================] - 5s 143ms/step - loss: 0.0014\n",
      "Epoch 55/150\n",
      "37/37 [==============================] - 5s 143ms/step - loss: 0.0012\n",
      "Epoch 56/150\n",
      "37/37 [==============================] - 5s 142ms/step - loss: 0.0012\n",
      "Epoch 57/150\n",
      "37/37 [==============================] - 6s 152ms/step - loss: 0.0012\n",
      "Epoch 58/150\n",
      "37/37 [==============================] - 5s 148ms/step - loss: 0.0011\n",
      "Epoch 59/150\n",
      "37/37 [==============================] - 5s 140ms/step - loss: 0.0011\n",
      "Epoch 60/150\n",
      "37/37 [==============================] - 5s 138ms/step - loss: 0.0012\n",
      "Epoch 61/150\n",
      "37/37 [==============================] - 5s 139ms/step - loss: 0.0011\n",
      "Epoch 62/150\n",
      "37/37 [==============================] - 5s 148ms/step - loss: 0.0011\n",
      "Epoch 63/150\n",
      "37/37 [==============================] - 5s 147ms/step - loss: 0.0010\n",
      "Epoch 64/150\n",
      "37/37 [==============================] - 5s 140ms/step - loss: 0.0012\n",
      "Epoch 65/150\n",
      "37/37 [==============================] - 5s 142ms/step - loss: 0.0011\n",
      "Epoch 66/150\n",
      "37/37 [==============================] - 5s 146ms/step - loss: 0.0011\n",
      "Epoch 67/150\n",
      "37/37 [==============================] - 5s 142ms/step - loss: 0.0011\n",
      "Epoch 68/150\n",
      "37/37 [==============================] - 5s 139ms/step - loss: 0.0011\n",
      "Epoch 69/150\n",
      "37/37 [==============================] - 6s 149ms/step - loss: 0.0010\n",
      "Epoch 70/150\n",
      "37/37 [==============================] - 5s 140ms/step - loss: 0.0010\n",
      "Epoch 71/150\n",
      "37/37 [==============================] - 5s 148ms/step - loss: 8.0338e-04\n",
      "Epoch 72/150\n",
      "37/37 [==============================] - 5s 146ms/step - loss: 0.0010\n",
      "Epoch 73/150\n",
      "37/37 [==============================] - 5s 139ms/step - loss: 0.0012\n",
      "Epoch 74/150\n",
      "37/37 [==============================] - 5s 141ms/step - loss: 9.4319e-04\n",
      "Epoch 75/150\n",
      "37/37 [==============================] - 5s 143ms/step - loss: 0.0011\n",
      "Epoch 76/150\n",
      "37/37 [==============================] - 6s 152ms/step - loss: 0.0010\n",
      "Epoch 77/150\n",
      "37/37 [==============================] - 5s 142ms/step - loss: 9.2931e-04\n",
      "Epoch 78/150\n",
      "37/37 [==============================] - 5s 145ms/step - loss: 9.5785e-04\n",
      "Epoch 79/150\n",
      "37/37 [==============================] - 5s 139ms/step - loss: 0.0010\n",
      "Epoch 80/150\n",
      "37/37 [==============================] - 5s 138ms/step - loss: 9.6842e-04\n",
      "Epoch 81/150\n",
      "37/37 [==============================] - 5s 138ms/step - loss: 9.3454e-04\n",
      "Epoch 82/150\n",
      "37/37 [==============================] - 5s 138ms/step - loss: 0.0010\n",
      "Epoch 83/150\n",
      "37/37 [==============================] - 5s 138ms/step - loss: 0.0013\n",
      "Epoch 84/150\n",
      "37/37 [==============================] - 5s 138ms/step - loss: 9.5786e-04\n",
      "Epoch 85/150\n",
      "37/37 [==============================] - 5s 139ms/step - loss: 9.3532e-04\n",
      "Epoch 86/150\n",
      "37/37 [==============================] - 5s 139ms/step - loss: 0.0010\n",
      "Epoch 87/150\n",
      "37/37 [==============================] - 5s 144ms/step - loss: 9.1242e-04\n",
      "Epoch 88/150\n",
      "37/37 [==============================] - 6s 155ms/step - loss: 9.3906e-04\n",
      "Epoch 89/150\n",
      "37/37 [==============================] - 6s 159ms/step - loss: 9.0238e-04\n",
      "Epoch 90/150\n",
      "37/37 [==============================] - 6s 150ms/step - loss: 8.8084e-04\n",
      "Epoch 91/150\n",
      "37/37 [==============================] - 6s 151ms/step - loss: 8.6331e-04\n",
      "Epoch 92/150\n",
      "37/37 [==============================] - 5s 146ms/step - loss: 8.2172e-04\n",
      "Epoch 93/150\n",
      "37/37 [==============================] - 5s 142ms/step - loss: 9.2298e-04\n",
      "Epoch 94/150\n",
      "37/37 [==============================] - 5s 142ms/step - loss: 9.0805e-04\n",
      "Epoch 95/150\n",
      "37/37 [==============================] - 5s 141ms/step - loss: 8.2793e-04\n",
      "Epoch 96/150\n",
      "37/37 [==============================] - 6s 153ms/step - loss: 7.9097e-04\n",
      "Epoch 97/150\n",
      "37/37 [==============================] - 6s 154ms/step - loss: 9.5450e-04\n",
      "Epoch 98/150\n",
      "37/37 [==============================] - 6s 160ms/step - loss: 7.7166e-04\n",
      "Epoch 99/150\n",
      "37/37 [==============================] - 5s 141ms/step - loss: 7.2456e-04\n",
      "Epoch 100/150\n",
      "37/37 [==============================] - 5s 138ms/step - loss: 8.8825e-04\n",
      "Epoch 101/150\n",
      "37/37 [==============================] - 5s 138ms/step - loss: 8.3708e-04\n",
      "Epoch 102/150\n",
      "37/37 [==============================] - 5s 139ms/step - loss: 8.1422e-04\n",
      "Epoch 103/150\n",
      "37/37 [==============================] - 5s 145ms/step - loss: 9.0597e-04\n",
      "Epoch 104/150\n",
      "37/37 [==============================] - 5s 139ms/step - loss: 7.8489e-04\n",
      "Epoch 105/150\n",
      "37/37 [==============================] - 5s 140ms/step - loss: 8.3944e-04\n",
      "Epoch 106/150\n",
      "37/37 [==============================] - 5s 139ms/step - loss: 7.3211e-04\n",
      "Epoch 107/150\n",
      "37/37 [==============================] - 5s 145ms/step - loss: 7.6574e-04\n",
      "Epoch 108/150\n",
      "37/37 [==============================] - 5s 139ms/step - loss: 7.6315e-04\n",
      "Epoch 109/150\n",
      "37/37 [==============================] - 5s 139ms/step - loss: 7.7199e-04\n",
      "Epoch 110/150\n",
      "37/37 [==============================] - 5s 141ms/step - loss: 7.7686e-04\n",
      "Epoch 111/150\n",
      "37/37 [==============================] - 5s 140ms/step - loss: 7.6627e-04\n",
      "Epoch 112/150\n",
      "37/37 [==============================] - 5s 140ms/step - loss: 7.1793e-04\n",
      "Epoch 113/150\n",
      "37/37 [==============================] - 5s 139ms/step - loss: 7.8364e-04\n",
      "Epoch 114/150\n",
      "37/37 [==============================] - 5s 142ms/step - loss: 0.0011\n",
      "Epoch 115/150\n",
      "37/37 [==============================] - 5s 144ms/step - loss: 7.3467e-04\n",
      "Epoch 116/150\n",
      "37/37 [==============================] - 5s 142ms/step - loss: 7.4837e-04\n",
      "Epoch 117/150\n",
      "37/37 [==============================] - 6s 156ms/step - loss: 7.4301e-04\n",
      "Epoch 118/150\n",
      "37/37 [==============================] - 5s 143ms/step - loss: 7.1623e-04\n",
      "Epoch 119/150\n",
      "37/37 [==============================] - 5s 147ms/step - loss: 9.5150e-04\n",
      "Epoch 120/150\n",
      "37/37 [==============================] - 6s 150ms/step - loss: 8.6270e-04\n",
      "Epoch 121/150\n",
      "37/37 [==============================] - 6s 149ms/step - loss: 7.5248e-04\n",
      "Epoch 122/150\n",
      "37/37 [==============================] - 5s 148ms/step - loss: 7.3010e-04\n",
      "Epoch 123/150\n",
      "37/37 [==============================] - 6s 153ms/step - loss: 7.5897e-04 1s - loss: 8.\n",
      "Epoch 124/150\n",
      "37/37 [==============================] - 5s 142ms/step - loss: 7.1148e-04\n",
      "Epoch 125/150\n",
      "37/37 [==============================] - 5s 143ms/step - loss: 9.0015e-04\n",
      "Epoch 126/150\n",
      "37/37 [==============================] - 6s 153ms/step - loss: 8.8465e-04\n",
      "Epoch 127/150\n",
      "37/37 [==============================] - 5s 140ms/step - loss: 7.7441e-04\n",
      "Epoch 128/150\n",
      "37/37 [==============================] - 5s 141ms/step - loss: 6.4710e-04\n",
      "Epoch 129/150\n",
      "37/37 [==============================] - 5s 142ms/step - loss: 7.3554e-04\n",
      "Epoch 130/150\n",
      "37/37 [==============================] - 5s 140ms/step - loss: 5.8681e-04\n",
      "Epoch 131/150\n",
      "37/37 [==============================] - 5s 139ms/step - loss: 6.6935e-04\n",
      "Epoch 132/150\n",
      "37/37 [==============================] - 5s 139ms/step - loss: 7.2175e-04\n",
      "Epoch 133/150\n",
      "37/37 [==============================] - 5s 139ms/step - loss: 6.5157e-04\n",
      "Epoch 134/150\n",
      "37/37 [==============================] - 5s 139ms/step - loss: 6.1736e-04\n",
      "Epoch 135/150\n",
      "37/37 [==============================] - 5s 141ms/step - loss: 6.4133e-04\n",
      "Epoch 136/150\n",
      "37/37 [==============================] - 6s 155ms/step - loss: 7.7304e-04\n",
      "Epoch 137/150\n",
      "37/37 [==============================] - 5s 140ms/step - loss: 7.3463e-04\n",
      "Epoch 138/150\n",
      "37/37 [==============================] - 5s 139ms/step - loss: 6.7495e-04\n",
      "Epoch 139/150\n",
      "37/37 [==============================] - 5s 139ms/step - loss: 6.2879e-04\n",
      "Epoch 140/150\n",
      "37/37 [==============================] - 5s 141ms/step - loss: 6.9981e-04\n",
      "Epoch 141/150\n",
      "37/37 [==============================] - 5s 140ms/step - loss: 6.9856e-04\n",
      "Epoch 142/150\n",
      "37/37 [==============================] - 5s 146ms/step - loss: 5.7132e-04\n",
      "Epoch 143/150\n",
      "37/37 [==============================] - 6s 150ms/step - loss: 7.3797e-04\n",
      "Epoch 144/150\n",
      "37/37 [==============================] - 5s 142ms/step - loss: 6.3023e-04\n",
      "Epoch 145/150\n",
      "37/37 [==============================] - 5s 139ms/step - loss: 5.7234e-04\n",
      "Epoch 146/150\n",
      "37/37 [==============================] - 5s 140ms/step - loss: 5.7679e-04\n",
      "Epoch 147/150\n",
      "37/37 [==============================] - 5s 140ms/step - loss: 6.5511e-04\n",
      "Epoch 148/150\n",
      "37/37 [==============================] - 5s 147ms/step - loss: 7.5985e-04\n",
      "Epoch 149/150\n",
      "37/37 [==============================] - 5s 141ms/step - loss: 6.3683e-04\n",
      "Epoch 150/150\n",
      "37/37 [==============================] - 5s 140ms/step - loss: 7.5090e-04\n"
     ]
    },
    {
     "data": {
      "text/plain": [
       "<tensorflow.python.keras.callbacks.History at 0x2060c879048>"
      ]
     },
     "execution_count": 14,
     "metadata": {},
     "output_type": "execute_result"
    }
   ],
   "source": [
    "regressor.compile(optimizer = 'adam', loss = 'mean_squared_error')\n",
    "regressor.fit(x_train, y_train, epochs = 150, batch_size = 32)"
   ]
  },
  {
   "cell_type": "code",
   "execution_count": 16,
   "metadata": {},
   "outputs": [
    {
     "data": {
      "text/html": [
       "<div>\n",
       "<style scoped>\n",
       "    .dataframe tbody tr th:only-of-type {\n",
       "        vertical-align: middle;\n",
       "    }\n",
       "\n",
       "    .dataframe tbody tr th {\n",
       "        vertical-align: top;\n",
       "    }\n",
       "\n",
       "    .dataframe thead th {\n",
       "        text-align: right;\n",
       "    }\n",
       "</style>\n",
       "<table border=\"1\" class=\"dataframe\">\n",
       "  <thead>\n",
       "    <tr style=\"text-align: right;\">\n",
       "      <th></th>\n",
       "      <th>Date</th>\n",
       "      <th>Open</th>\n",
       "      <th>High</th>\n",
       "      <th>Low</th>\n",
       "      <th>Close</th>\n",
       "      <th>Adj Close</th>\n",
       "      <th>Volume</th>\n",
       "    </tr>\n",
       "  </thead>\n",
       "  <tbody>\n",
       "    <tr>\n",
       "      <th>41</th>\n",
       "      <td>3/3/2008</td>\n",
       "      <td>4.444286</td>\n",
       "      <td>4.499286</td>\n",
       "      <td>4.214286</td>\n",
       "      <td>4.347500</td>\n",
       "      <td>3.756845</td>\n",
       "      <td>1593043200</td>\n",
       "    </tr>\n",
       "    <tr>\n",
       "      <th>42</th>\n",
       "      <td>3/4/2008</td>\n",
       "      <td>4.356786</td>\n",
       "      <td>4.460000</td>\n",
       "      <td>4.300000</td>\n",
       "      <td>4.450714</td>\n",
       "      <td>3.846035</td>\n",
       "      <td>1785383600</td>\n",
       "    </tr>\n",
       "    <tr>\n",
       "      <th>43</th>\n",
       "      <td>3/5/2008</td>\n",
       "      <td>4.413571</td>\n",
       "      <td>4.469285</td>\n",
       "      <td>4.366071</td>\n",
       "      <td>4.446072</td>\n",
       "      <td>3.842025</td>\n",
       "      <td>1221836000</td>\n",
       "    </tr>\n",
       "    <tr>\n",
       "      <th>44</th>\n",
       "      <td>3/6/2008</td>\n",
       "      <td>4.450357</td>\n",
       "      <td>4.553571</td>\n",
       "      <td>4.314643</td>\n",
       "      <td>4.318929</td>\n",
       "      <td>3.732156</td>\n",
       "      <td>1473698800</td>\n",
       "    </tr>\n",
       "    <tr>\n",
       "      <th>45</th>\n",
       "      <td>3/7/2008</td>\n",
       "      <td>4.300357</td>\n",
       "      <td>4.392143</td>\n",
       "      <td>4.251786</td>\n",
       "      <td>4.366071</td>\n",
       "      <td>3.772892</td>\n",
       "      <td>1230462800</td>\n",
       "    </tr>\n",
       "  </tbody>\n",
       "</table>\n",
       "</div>"
      ],
      "text/plain": [
       "        Date      Open      High       Low     Close  Adj Close      Volume\n",
       "41  3/3/2008  4.444286  4.499286  4.214286  4.347500   3.756845  1593043200\n",
       "42  3/4/2008  4.356786  4.460000  4.300000  4.450714   3.846035  1785383600\n",
       "43  3/5/2008  4.413571  4.469285  4.366071  4.446072   3.842025  1221836000\n",
       "44  3/6/2008  4.450357  4.553571  4.314643  4.318929   3.732156  1473698800\n",
       "45  3/7/2008  4.300357  4.392143  4.251786  4.366071   3.772892  1230462800"
      ]
     },
     "execution_count": 16,
     "metadata": {},
     "output_type": "execute_result"
    }
   ],
   "source": [
    "data_testing.head()"
   ]
  },
  {
   "cell_type": "code",
   "execution_count": 39,
   "metadata": {},
   "outputs": [],
   "source": [
    "past_60_days = data_testing.tail(60)"
   ]
  },
  {
   "cell_type": "code",
   "execution_count": 40,
   "metadata": {},
   "outputs": [
    {
     "data": {
      "text/html": [
       "<div>\n",
       "<style scoped>\n",
       "    .dataframe tbody tr th:only-of-type {\n",
       "        vertical-align: middle;\n",
       "    }\n",
       "\n",
       "    .dataframe tbody tr th {\n",
       "        vertical-align: top;\n",
       "    }\n",
       "\n",
       "    .dataframe thead th {\n",
       "        text-align: right;\n",
       "    }\n",
       "</style>\n",
       "<table border=\"1\" class=\"dataframe\">\n",
       "  <thead>\n",
       "    <tr style=\"text-align: right;\">\n",
       "      <th></th>\n",
       "      <th>Open</th>\n",
       "      <th>High</th>\n",
       "      <th>Low</th>\n",
       "      <th>Close</th>\n",
       "      <th>Volume</th>\n",
       "    </tr>\n",
       "  </thead>\n",
       "  <tbody>\n",
       "    <tr>\n",
       "      <th>0</th>\n",
       "      <td>50.202499</td>\n",
       "      <td>50.349998</td>\n",
       "      <td>49.602501</td>\n",
       "      <td>50.005001</td>\n",
       "      <td>101354400</td>\n",
       "    </tr>\n",
       "    <tr>\n",
       "      <th>1</th>\n",
       "      <td>49.799999</td>\n",
       "      <td>50.377499</td>\n",
       "      <td>49.702499</td>\n",
       "      <td>50.310001</td>\n",
       "      <td>82312000</td>\n",
       "    </tr>\n",
       "    <tr>\n",
       "      <th>2</th>\n",
       "      <td>50.462502</td>\n",
       "      <td>50.932499</td>\n",
       "      <td>50.389999</td>\n",
       "      <td>50.807499</td>\n",
       "      <td>71588400</td>\n",
       "    </tr>\n",
       "    <tr>\n",
       "      <th>3</th>\n",
       "      <td>50.827499</td>\n",
       "      <td>51.097500</td>\n",
       "      <td>50.427502</td>\n",
       "      <td>50.437500</td>\n",
       "      <td>80767200</td>\n",
       "    </tr>\n",
       "    <tr>\n",
       "      <th>4</th>\n",
       "      <td>50.612499</td>\n",
       "      <td>51.000000</td>\n",
       "      <td>50.549999</td>\n",
       "      <td>50.825001</td>\n",
       "      <td>70380800</td>\n",
       "    </tr>\n",
       "  </tbody>\n",
       "</table>\n",
       "</div>"
      ],
      "text/plain": [
       "        Open       High        Low      Close     Volume\n",
       "0  50.202499  50.349998  49.602501  50.005001  101354400\n",
       "1  49.799999  50.377499  49.702499  50.310001   82312000\n",
       "2  50.462502  50.932499  50.389999  50.807499   71588400\n",
       "3  50.827499  51.097500  50.427502  50.437500   80767200\n",
       "4  50.612499  51.000000  50.549999  50.825001   70380800"
      ]
     },
     "execution_count": 40,
     "metadata": {},
     "output_type": "execute_result"
    }
   ],
   "source": [
    "df = past_60_days.append(data_testing, ignore_index = True)\n",
    "df = df.drop(['Date', 'Adj Close'], axis = 1)\n",
    "df.head()"
   ]
  },
  {
   "cell_type": "code",
   "execution_count": 42,
   "metadata": {},
   "outputs": [
    {
     "data": {
      "text/plain": [
       "array([[0.67720901, 0.67203496, 0.67607707, 0.67362064, 0.01666658],\n",
       "       [0.67145446, 0.67242469, 0.67752135, 0.67797236, 0.0109431 ],\n",
       "       [0.68092628, 0.6802899 , 0.68745099, 0.68507064, 0.00771996],\n",
       "       ...,\n",
       "       [0.74579898, 0.741263  , 0.74980916, 0.74449668, 0.00884575],\n",
       "       [0.74772905, 0.74133388, 0.74421245, 0.74068003, 0.01668269],\n",
       "       [0.74901579, 0.7541591 , 0.75688625, 0.75904999, 0.01743458]])"
      ]
     },
     "execution_count": 42,
     "metadata": {},
     "output_type": "execute_result"
    }
   ],
   "source": [
    "inputs = scaler.transform(df)\n",
    "inputs"
   ]
  },
  {
   "cell_type": "code",
   "execution_count": 43,
   "metadata": {},
   "outputs": [
    {
     "data": {
      "text/plain": [
       "((1785, 60, 5), (1785,))"
      ]
     },
     "execution_count": 43,
     "metadata": {},
     "output_type": "execute_result"
    }
   ],
   "source": [
    "x_test = []\n",
    "y_test = []\n",
    "\n",
    "for i in range(60, inputs.shape[0]):\n",
    "    x_test.append(inputs[i-60:i])\n",
    "    y_test.append(inputs[i,0])\n",
    "    \n",
    "x_test = np.array(x_test)\n",
    "y_test = np.array(y_test)\n",
    "x_test.shape, y_test.shape"
   ]
  },
  {
   "cell_type": "code",
   "execution_count": 44,
   "metadata": {},
   "outputs": [
    {
     "data": {
      "text/plain": [
       "(1785, 60, 5)"
      ]
     },
     "execution_count": 44,
     "metadata": {},
     "output_type": "execute_result"
    }
   ],
   "source": [
    "x_test.shape"
   ]
  },
  {
   "cell_type": "code",
   "execution_count": 45,
   "metadata": {},
   "outputs": [],
   "source": [
    "y_pred = regressor.predict(x_test)"
   ]
  },
  {
   "cell_type": "code",
   "execution_count": 46,
   "metadata": {},
   "outputs": [
    {
     "data": {
      "text/plain": [
       "array([1.42970208e-02, 1.41715465e-02, 1.44431149e-02, 1.42679527e-02,\n",
       "       3.00565123e-10])"
      ]
     },
     "execution_count": 46,
     "metadata": {},
     "output_type": "execute_result"
    }
   ],
   "source": [
    "scaler.scale_"
   ]
  },
  {
   "cell_type": "code",
   "execution_count": 47,
   "metadata": {},
   "outputs": [
    {
     "data": {
      "text/plain": [
       "69.94464189350553"
      ]
     },
     "execution_count": 47,
     "metadata": {},
     "output_type": "execute_result"
    }
   ],
   "source": [
    "scale = 1 / 1.42970208e-02\n",
    "scale"
   ]
  },
  {
   "cell_type": "code",
   "execution_count": 48,
   "metadata": {},
   "outputs": [],
   "source": [
    "y_pred = y_pred * scale \n",
    "y_test = y_test * scale"
   ]
  },
  {
   "cell_type": "code",
   "execution_count": 49,
   "metadata": {},
   "outputs": [
    {
     "data": {
      "text/plain": [
       "(1785, 1)"
      ]
     },
     "execution_count": 49,
     "metadata": {},
     "output_type": "execute_result"
    }
   ],
   "source": [
    "y_pred.shape"
   ]
  },
  {
   "cell_type": "code",
   "execution_count": 50,
   "metadata": {},
   "outputs": [
    {
     "data": {
      "text/plain": [
       "(1785,)"
      ]
     },
     "execution_count": 50,
     "metadata": {},
     "output_type": "execute_result"
    }
   ],
   "source": [
    "y_test.shape"
   ]
  },
  {
   "cell_type": "code",
   "execution_count": 36,
   "metadata": {},
   "outputs": [
    {
     "data": {
      "text/plain": [
       "array([[43.32011 ],\n",
       "       [43.234653],\n",
       "       [43.026146],\n",
       "       [42.995815],\n",
       "       [43.081776],\n",
       "       [43.20877 ],\n",
       "       [43.431065],\n",
       "       [43.622734],\n",
       "       [43.709206],\n",
       "       [43.76236 ],\n",
       "       [43.743614],\n",
       "       [43.75367 ],\n",
       "       [43.985233],\n",
       "       [44.241188],\n",
       "       [44.407726],\n",
       "       [44.483017],\n",
       "       [44.569   ],\n",
       "       [44.550472],\n",
       "       [44.69897 ],\n",
       "       [44.653683],\n",
       "       [44.195248],\n",
       "       [43.310104],\n",
       "       [42.39375 ],\n",
       "       [41.68028 ],\n",
       "       [41.602016],\n",
       "       [41.904316],\n",
       "       [42.22248 ],\n",
       "       [42.678574],\n",
       "       [42.98258 ],\n",
       "       [43.04346 ],\n",
       "       [43.181683],\n",
       "       [43.783165],\n",
       "       [44.37035 ],\n",
       "       [44.846767],\n",
       "       [45.12995 ],\n",
       "       [44.83484 ],\n",
       "       [44.42    ],\n",
       "       [44.082382],\n",
       "       [43.856487],\n",
       "       [43.947643],\n",
       "       [44.21467 ],\n",
       "       [44.268906],\n",
       "       [44.363106],\n",
       "       [44.729782],\n",
       "       [45.17009 ],\n",
       "       [45.45156 ],\n",
       "       [45.58165 ],\n",
       "       [45.949997],\n",
       "       [46.58948 ],\n",
       "       [46.696297],\n",
       "       [46.60726 ],\n",
       "       [46.61378 ],\n",
       "       [46.75909 ],\n",
       "       [46.96785 ],\n",
       "       [46.903294],\n",
       "       [46.808987],\n",
       "       [46.74896 ],\n",
       "       [46.76192 ],\n",
       "       [46.85828 ],\n",
       "       [46.91064 ]], dtype=float32)"
      ]
     },
     "execution_count": 36,
     "metadata": {},
     "output_type": "execute_result"
    }
   ],
   "source": [
    "y_pred[1725:]"
   ]
  },
  {
   "cell_type": "code",
   "execution_count": 51,
   "metadata": {},
   "outputs": [
    {
     "data": {
      "text/plain": [
       "array([47.36714193, 46.96464193, 47.62714493, 47.99214193, 47.77714193,\n",
       "       48.18714193, 48.31214193, 48.17714393, 48.16464293, 48.61214093,\n",
       "       48.07714093, 49.27964492, 49.08214293, 49.38714292, 49.03464193,\n",
       "       49.27964492, 49.35464192, 51.26964292, 50.63964092, 48.54714293,\n",
       "       46.66214393, 46.24214193, 46.01714393, 47.21464193, 47.48964393,\n",
       "       47.06964193, 47.41964393, 47.95464393, 48.02964493, 48.23464293,\n",
       "       49.81964192, 49.88464392, 50.41214392, 50.46214392, 49.52214092,\n",
       "       48.62964293, 49.12964293, 48.18964493, 49.28964292, 49.70464392,\n",
       "       48.77214093, 49.26214292, 50.16464292, 50.67714392, 50.87464192,\n",
       "       50.62964292, 51.68214492, 53.36464392, 52.16464292, 51.59714192,\n",
       "       52.15464492, 52.42964192, 52.66714192, 52.50964392, 51.90214192,\n",
       "       52.42214292, 51.80214392, 52.16464292, 52.29964092, 52.38964092])"
      ]
     },
     "execution_count": 51,
     "metadata": {},
     "output_type": "execute_result"
    }
   ],
   "source": [
    "y_test[1725:]"
   ]
  },
  {
   "cell_type": "code",
   "execution_count": 52,
   "metadata": {},
   "outputs": [
    {
     "data": {
      "image/png": "[encoded data removed]",
      "text/plain": [
       "<Figure size 1008x360 with 1 Axes>"
      ]
     },
     "metadata": {
      "needs_background": "light"
     },
     "output_type": "display_data"
    }
   ],
   "source": [
    "plt.figure(figsize = (14,5))\n",
    "plt.plot(y_test, color = 'red', label = 'Real Apple Stock Price')\n",
    "plt.plot(y_pred, color = 'blue', label = 'Predicted Apple Stock price')\n",
    "plt.title('Apple Stock Price Prediction')\n",
    "plt.xlabel('Time')\n",
    "plt.ylabel('Apple Stock Price')\n",
    "plt.legend()\n",
    "plt.show()"
   ]
  },
  {
   "cell_type": "code",
   "execution_count": null,
   "metadata": {},
   "outputs": [],
   "source": []
  }
 ],
 "metadata": {
  "kernelspec": {
   "display_name": "Python 3",
   "language": "python",
   "name": "python3"
  },
  "language_info": {
   "codemirror_mode": {
    "name": "ipython",
    "version": 3
   },
   "file_extension": ".py",
   "mimetype": "text/x-python",
   "name": "python",
   "nbconvert_exporter": "python",
   "pygments_lexer": "ipython3",
   "version": "3.7.6"
  }
 },
 "nbformat": 4,
 "nbformat_minor": 4
}
