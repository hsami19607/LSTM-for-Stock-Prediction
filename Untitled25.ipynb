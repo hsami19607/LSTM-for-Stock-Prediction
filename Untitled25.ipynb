{
 "cells": [
  {
   "cell_type": "code",
   "execution_count": 1,
   "metadata": {},
   "outputs": [],
   "source": [
    "import pandas as pd \n",
    "import numpy as np \n",
    "import matplotlib.pyplot as plt \n",
    "from sklearn.preprocessing import MinMaxScaler"
   ]
  },
  {
   "cell_type": "code",
   "execution_count": 4,
   "metadata": {},
   "outputs": [
    {
     "data": {
      "text/html": [
       "<div>\n",
       "<style scoped>\n",
       "    .dataframe tbody tr th:only-of-type {\n",
       "        vertical-align: middle;\n",
       "    }\n",
       "\n",
       "    .dataframe tbody tr th {\n",
       "        vertical-align: top;\n",
       "    }\n",
       "\n",
       "    .dataframe thead th {\n",
       "        text-align: right;\n",
       "    }\n",
       "</style>\n",
       "<table border=\"1\" class=\"dataframe\">\n",
       "  <thead>\n",
       "    <tr style=\"text-align: right;\">\n",
       "      <th></th>\n",
       "      <th>date</th>\n",
       "      <th>Open</th>\n",
       "      <th>High</th>\n",
       "      <th>Low</th>\n",
       "      <th>Close</th>\n",
       "      <th>Volume</th>\n",
       "      <th>Unnamed: 6</th>\n",
       "    </tr>\n",
       "  </thead>\n",
       "  <tbody>\n",
       "    <tr>\n",
       "      <th>0</th>\n",
       "      <td>1/4/2016</td>\n",
       "      <td>2929.9</td>\n",
       "      <td>2810.0</td>\n",
       "      <td>2819.5</td>\n",
       "      <td>2824.4</td>\n",
       "      <td>193</td>\n",
       "      <td>1</td>\n",
       "    </tr>\n",
       "    <tr>\n",
       "      <th>1</th>\n",
       "      <td>1/5/2016</td>\n",
       "      <td>2835.0</td>\n",
       "      <td>2822.0</td>\n",
       "      <td>2835.0</td>\n",
       "      <td>2824.5</td>\n",
       "      <td>103</td>\n",
       "      <td>2</td>\n",
       "    </tr>\n",
       "    <tr>\n",
       "      <th>2</th>\n",
       "      <td>1/6/2016</td>\n",
       "      <td>2927.9</td>\n",
       "      <td>2820.5</td>\n",
       "      <td>2820.5</td>\n",
       "      <td>2889.7</td>\n",
       "      <td>79</td>\n",
       "      <td>3</td>\n",
       "    </tr>\n",
       "    <tr>\n",
       "      <th>3</th>\n",
       "      <td>1/7/2016</td>\n",
       "      <td>2920.0</td>\n",
       "      <td>2802.1</td>\n",
       "      <td>2881.0</td>\n",
       "      <td>2822.6</td>\n",
       "      <td>571</td>\n",
       "      <td>4</td>\n",
       "    </tr>\n",
       "    <tr>\n",
       "      <th>4</th>\n",
       "      <td>1/8/2016</td>\n",
       "      <td>2919.0</td>\n",
       "      <td>2899.0</td>\n",
       "      <td>2900.0</td>\n",
       "      <td>2902.5</td>\n",
       "      <td>518</td>\n",
       "      <td>5</td>\n",
       "    </tr>\n",
       "    <tr>\n",
       "      <th>...</th>\n",
       "      <td>...</td>\n",
       "      <td>...</td>\n",
       "      <td>...</td>\n",
       "      <td>...</td>\n",
       "      <td>...</td>\n",
       "      <td>...</td>\n",
       "      <td>...</td>\n",
       "    </tr>\n",
       "    <tr>\n",
       "      <th>1154</th>\n",
       "      <td>3/3/2019</td>\n",
       "      <td>1089.8</td>\n",
       "      <td>1073.0</td>\n",
       "      <td>1086.0</td>\n",
       "      <td>1078.3</td>\n",
       "      <td>75175</td>\n",
       "      <td>62</td>\n",
       "    </tr>\n",
       "    <tr>\n",
       "      <th>1155</th>\n",
       "      <td>3/4/2019</td>\n",
       "      <td>1088.0</td>\n",
       "      <td>1070.0</td>\n",
       "      <td>1078.3</td>\n",
       "      <td>1078.4</td>\n",
       "      <td>70496</td>\n",
       "      <td>63</td>\n",
       "    </tr>\n",
       "    <tr>\n",
       "      <th>1156</th>\n",
       "      <td>3/5/2019</td>\n",
       "      <td>1113.5</td>\n",
       "      <td>1080.0</td>\n",
       "      <td>1080.1</td>\n",
       "      <td>1108.8</td>\n",
       "      <td>102692</td>\n",
       "      <td>64</td>\n",
       "    </tr>\n",
       "    <tr>\n",
       "      <th>1157</th>\n",
       "      <td>3/6/2019</td>\n",
       "      <td>1125.0</td>\n",
       "      <td>1102.1</td>\n",
       "      <td>1114.0</td>\n",
       "      <td>1121.7</td>\n",
       "      <td>163631</td>\n",
       "      <td>65</td>\n",
       "    </tr>\n",
       "    <tr>\n",
       "      <th>1158</th>\n",
       "      <td>3/7/2019</td>\n",
       "      <td>1165.0</td>\n",
       "      <td>1121.6</td>\n",
       "      <td>1121.6</td>\n",
       "      <td>1159.8</td>\n",
       "      <td>149474</td>\n",
       "      <td>66</td>\n",
       "    </tr>\n",
       "  </tbody>\n",
       "</table>\n",
       "<p>1159 rows × 7 columns</p>\n",
       "</div>"
      ],
      "text/plain": [
       "          date    Open   High     Low   Close   Volume   Unnamed: 6\n",
       "0     1/4/2016  2929.9  2810.0  2819.5  2824.4      193           1\n",
       "1     1/5/2016  2835.0  2822.0  2835.0  2824.5      103           2\n",
       "2     1/6/2016  2927.9  2820.5  2820.5  2889.7       79           3\n",
       "3     1/7/2016  2920.0  2802.1  2881.0  2822.6      571           4\n",
       "4     1/8/2016  2919.0  2899.0  2900.0  2902.5      518           5\n",
       "...        ...     ...     ...     ...     ...      ...         ...\n",
       "1154  3/3/2019  1089.8  1073.0  1086.0  1078.3    75175          62\n",
       "1155  3/4/2019  1088.0  1070.0  1078.3  1078.4    70496          63\n",
       "1156  3/5/2019  1113.5  1080.0  1080.1  1108.8   102692          64\n",
       "1157  3/6/2019  1125.0  1102.1  1114.0  1121.7   163631          65\n",
       "1158  3/7/2019  1165.0  1121.6  1121.6  1159.8   149474          66\n",
       "\n",
       "[1159 rows x 7 columns]"
      ]
     },
     "execution_count": 4,
     "metadata": {},
     "output_type": "execute_result"
    }
   ],
   "source": [
    "df = pd.read_csv(r\"C:\\\\Users\\\\Owner\\Desktop\\batbccsv.csv\")\n",
    "df"
   ]
  },
  {
   "cell_type": "code",
   "execution_count": 5,
   "metadata": {},
   "outputs": [
    {
     "data": {
      "text/plain": [
       "0       1/4/2016\n",
       "1       1/5/2016\n",
       "2       1/6/2016\n",
       "3       1/7/2016\n",
       "4       1/8/2016\n",
       "          ...   \n",
       "1154    3/3/2019\n",
       "1155    3/4/2019\n",
       "1156    3/5/2019\n",
       "1157    3/6/2019\n",
       "1158    3/7/2019\n",
       "Name: date, Length: 1159, dtype: object"
      ]
     },
     "execution_count": 5,
     "metadata": {},
     "output_type": "execute_result"
    }
   ],
   "source": [
    "df_d = df.reset_index()['date']\n",
    "df_d"
   ]
  },
  {
   "cell_type": "code",
   "execution_count": 7,
   "metadata": {},
   "outputs": [
    {
     "data": {
      "text/plain": [
       "0       2929.9\n",
       "1       2835.0\n",
       "2       2927.9\n",
       "3       2920.0\n",
       "4       2919.0\n",
       "         ...  \n",
       "1154    1089.8\n",
       "1155    1088.0\n",
       "1156    1113.5\n",
       "1157    1125.0\n",
       "1158    1165.0\n",
       "Name: Open, Length: 1159, dtype: float64"
      ]
     },
     "execution_count": 7,
     "metadata": {},
     "output_type": "execute_result"
    }
   ],
   "source": [
    "df_h = df.reset_index()['Open']\n",
    "df_h"
   ]
  },
  {
   "cell_type": "code",
   "execution_count": 8,
   "metadata": {},
   "outputs": [
    {
     "data": {
      "text/html": [
       "<div>\n",
       "<style scoped>\n",
       "    .dataframe tbody tr th:only-of-type {\n",
       "        vertical-align: middle;\n",
       "    }\n",
       "\n",
       "    .dataframe tbody tr th {\n",
       "        vertical-align: top;\n",
       "    }\n",
       "\n",
       "    .dataframe thead th {\n",
       "        text-align: right;\n",
       "    }\n",
       "</style>\n",
       "<table border=\"1\" class=\"dataframe\">\n",
       "  <thead>\n",
       "    <tr style=\"text-align: right;\">\n",
       "      <th></th>\n",
       "      <th>date</th>\n",
       "      <th>Open</th>\n",
       "      <th>High</th>\n",
       "      <th>Low</th>\n",
       "      <th>Close</th>\n",
       "      <th>Volume</th>\n",
       "      <th>Unnamed: 6</th>\n",
       "    </tr>\n",
       "  </thead>\n",
       "  <tbody>\n",
       "    <tr>\n",
       "      <th>0</th>\n",
       "      <td>1/4/2016</td>\n",
       "      <td>2929.9</td>\n",
       "      <td>2810.0</td>\n",
       "      <td>2819.5</td>\n",
       "      <td>2824.4</td>\n",
       "      <td>193</td>\n",
       "      <td>1</td>\n",
       "    </tr>\n",
       "    <tr>\n",
       "      <th>1</th>\n",
       "      <td>1/5/2016</td>\n",
       "      <td>2835.0</td>\n",
       "      <td>2822.0</td>\n",
       "      <td>2835.0</td>\n",
       "      <td>2824.5</td>\n",
       "      <td>103</td>\n",
       "      <td>2</td>\n",
       "    </tr>\n",
       "    <tr>\n",
       "      <th>2</th>\n",
       "      <td>1/6/2016</td>\n",
       "      <td>2927.9</td>\n",
       "      <td>2820.5</td>\n",
       "      <td>2820.5</td>\n",
       "      <td>2889.7</td>\n",
       "      <td>79</td>\n",
       "      <td>3</td>\n",
       "    </tr>\n",
       "    <tr>\n",
       "      <th>3</th>\n",
       "      <td>1/7/2016</td>\n",
       "      <td>2920.0</td>\n",
       "      <td>2802.1</td>\n",
       "      <td>2881.0</td>\n",
       "      <td>2822.6</td>\n",
       "      <td>571</td>\n",
       "      <td>4</td>\n",
       "    </tr>\n",
       "    <tr>\n",
       "      <th>4</th>\n",
       "      <td>1/8/2016</td>\n",
       "      <td>2919.0</td>\n",
       "      <td>2899.0</td>\n",
       "      <td>2900.0</td>\n",
       "      <td>2902.5</td>\n",
       "      <td>518</td>\n",
       "      <td>5</td>\n",
       "    </tr>\n",
       "  </tbody>\n",
       "</table>\n",
       "</div>"
      ],
      "text/plain": [
       "       date    Open   High     Low   Close   Volume   Unnamed: 6\n",
       "0  1/4/2016  2929.9  2810.0  2819.5  2824.4      193           1\n",
       "1  1/5/2016  2835.0  2822.0  2835.0  2824.5      103           2\n",
       "2  1/6/2016  2927.9  2820.5  2820.5  2889.7       79           3\n",
       "3  1/7/2016  2920.0  2802.1  2881.0  2822.6      571           4\n",
       "4  1/8/2016  2919.0  2899.0  2900.0  2902.5      518           5"
      ]
     },
     "execution_count": 8,
     "metadata": {},
     "output_type": "execute_result"
    }
   ],
   "source": [
    "df.head()"
   ]
  },
  {
   "cell_type": "code",
   "execution_count": 9,
   "metadata": {},
   "outputs": [
    {
     "data": {
      "text/html": [
       "<div>\n",
       "<style scoped>\n",
       "    .dataframe tbody tr th:only-of-type {\n",
       "        vertical-align: middle;\n",
       "    }\n",
       "\n",
       "    .dataframe tbody tr th {\n",
       "        vertical-align: top;\n",
       "    }\n",
       "\n",
       "    .dataframe thead th {\n",
       "        text-align: right;\n",
       "    }\n",
       "</style>\n",
       "<table border=\"1\" class=\"dataframe\">\n",
       "  <thead>\n",
       "    <tr style=\"text-align: right;\">\n",
       "      <th></th>\n",
       "      <th>date</th>\n",
       "      <th>Open</th>\n",
       "      <th>High</th>\n",
       "      <th>Low</th>\n",
       "      <th>Close</th>\n",
       "      <th>Volume</th>\n",
       "      <th>Unnamed: 6</th>\n",
       "    </tr>\n",
       "  </thead>\n",
       "  <tbody>\n",
       "    <tr>\n",
       "      <th>1154</th>\n",
       "      <td>3/3/2019</td>\n",
       "      <td>1089.8</td>\n",
       "      <td>1073.0</td>\n",
       "      <td>1086.0</td>\n",
       "      <td>1078.3</td>\n",
       "      <td>75175</td>\n",
       "      <td>62</td>\n",
       "    </tr>\n",
       "    <tr>\n",
       "      <th>1155</th>\n",
       "      <td>3/4/2019</td>\n",
       "      <td>1088.0</td>\n",
       "      <td>1070.0</td>\n",
       "      <td>1078.3</td>\n",
       "      <td>1078.4</td>\n",
       "      <td>70496</td>\n",
       "      <td>63</td>\n",
       "    </tr>\n",
       "    <tr>\n",
       "      <th>1156</th>\n",
       "      <td>3/5/2019</td>\n",
       "      <td>1113.5</td>\n",
       "      <td>1080.0</td>\n",
       "      <td>1080.1</td>\n",
       "      <td>1108.8</td>\n",
       "      <td>102692</td>\n",
       "      <td>64</td>\n",
       "    </tr>\n",
       "    <tr>\n",
       "      <th>1157</th>\n",
       "      <td>3/6/2019</td>\n",
       "      <td>1125.0</td>\n",
       "      <td>1102.1</td>\n",
       "      <td>1114.0</td>\n",
       "      <td>1121.7</td>\n",
       "      <td>163631</td>\n",
       "      <td>65</td>\n",
       "    </tr>\n",
       "    <tr>\n",
       "      <th>1158</th>\n",
       "      <td>3/7/2019</td>\n",
       "      <td>1165.0</td>\n",
       "      <td>1121.6</td>\n",
       "      <td>1121.6</td>\n",
       "      <td>1159.8</td>\n",
       "      <td>149474</td>\n",
       "      <td>66</td>\n",
       "    </tr>\n",
       "  </tbody>\n",
       "</table>\n",
       "</div>"
      ],
      "text/plain": [
       "          date    Open   High     Low   Close   Volume   Unnamed: 6\n",
       "1154  3/3/2019  1089.8  1073.0  1086.0  1078.3    75175          62\n",
       "1155  3/4/2019  1088.0  1070.0  1078.3  1078.4    70496          63\n",
       "1156  3/5/2019  1113.5  1080.0  1080.1  1108.8   102692          64\n",
       "1157  3/6/2019  1125.0  1102.1  1114.0  1121.7   163631          65\n",
       "1158  3/7/2019  1165.0  1121.6  1121.6  1159.8   149474          66"
      ]
     },
     "execution_count": 9,
     "metadata": {},
     "output_type": "execute_result"
    }
   ],
   "source": [
    "df.tail()"
   ]
  },
  {
   "cell_type": "code",
   "execution_count": 10,
   "metadata": {},
   "outputs": [
    {
     "data": {
      "text/plain": [
       "[<matplotlib.lines.Line2D at 0x1f3eb135fc8>]"
      ]
     },
     "execution_count": 10,
     "metadata": {},
     "output_type": "execute_result"
    },
    {
     "data": {
      "image/png": "[encoded data removed]",
      "text/plain": [
       "<Figure size 432x288 with 1 Axes>"
      ]
     },
     "metadata": {
      "needs_background": "light"
     },
     "output_type": "display_data"
    }
   ],
   "source": [
    "import matplotlib.pyplot as plt \n",
    "plt.plot(df_h)"
   ]
  },
  {
   "cell_type": "code",
   "execution_count": 11,
   "metadata": {},
   "outputs": [
    {
     "data": {
      "text/plain": [
       "(1159,)"
      ]
     },
     "execution_count": 11,
     "metadata": {},
     "output_type": "execute_result"
    }
   ],
   "source": [
    "df_h.shape"
   ]
  },
  {
   "cell_type": "code",
   "execution_count": 12,
   "metadata": {},
   "outputs": [],
   "source": [
    "scaler = MinMaxScaler(feature_range = (0,1))\n",
    "df_h = scaler.fit_transform(np.array(df_h).reshape(-1,1))"
   ]
  },
  {
   "cell_type": "code",
   "execution_count": 13,
   "metadata": {},
   "outputs": [
    {
     "data": {
      "text/plain": [
       "(1159, 1)"
      ]
     },
     "execution_count": 13,
     "metadata": {},
     "output_type": "execute_result"
    }
   ],
   "source": [
    "df_h.shape"
   ]
  },
  {
   "cell_type": "code",
   "execution_count": 14,
   "metadata": {},
   "outputs": [
    {
     "data": {
      "text/plain": [
       "1159"
      ]
     },
     "execution_count": 14,
     "metadata": {},
     "output_type": "execute_result"
    }
   ],
   "source": [
    "len(df_h)"
   ]
  },
  {
   "cell_type": "code",
   "execution_count": 15,
   "metadata": {},
   "outputs": [
    {
     "data": {
      "text/plain": [
       "array([[0.44201042],\n",
       "       [0.42140686],\n",
       "       [0.4415762 ],\n",
       "       ...,\n",
       "       [0.04765523],\n",
       "       [0.05015198],\n",
       "       [0.0588363 ]])"
      ]
     },
     "execution_count": 15,
     "metadata": {},
     "output_type": "execute_result"
    }
   ],
   "source": [
    "df_h"
   ]
  },
  {
   "cell_type": "code",
   "execution_count": 21,
   "metadata": {},
   "outputs": [],
   "source": [
    "training_size = int(len(df_h) * 0.9)\n",
    "test_size = len(df_h) - training_size\n",
    "train_data = df_h[0: training_size, :]\n",
    "test_data = df_h[training_size: len(df_h), :1]"
   ]
  },
  {
   "cell_type": "code",
   "execution_count": 22,
   "metadata": {},
   "outputs": [
    {
     "data": {
      "text/plain": [
       "1043"
      ]
     },
     "execution_count": 22,
     "metadata": {},
     "output_type": "execute_result"
    }
   ],
   "source": [
    "len(train_data)"
   ]
  },
  {
   "cell_type": "code",
   "execution_count": 23,
   "metadata": {},
   "outputs": [],
   "source": [
    "def create_dataset(dataset, time_step = 1):\n",
    "    data_x = []\n",
    "    data_y = []\n",
    "    for i in range(len(dataset) - time_step - 1):\n",
    "        a = dataset[i:(i + time_step), 0]\n",
    "        data_x.append(a)\n",
    "        data_y.append(dataset[i + time_step, 0])\n",
    "    return np.array(data_x), np.array(data_y)"
   ]
  },
  {
   "cell_type": "code",
   "execution_count": 24,
   "metadata": {},
   "outputs": [],
   "source": [
    "time_step = 100\n",
    "x_train, y_train = create_dataset(train_data, time_step)\n",
    "x_test, y_test = create_dataset(test_data, time_step)"
   ]
  },
  {
   "cell_type": "code",
   "execution_count": 25,
   "metadata": {},
   "outputs": [
    {
     "name": "stdout",
     "output_type": "stream",
     "text": [
      "[[0.44201042 0.42140686 0.4415762  ... 0.3797221  0.38319583 0.37907078]\n",
      " [0.42140686 0.4415762  0.43986105 ... 0.38319583 0.37907078 0.39209726]\n",
      " [0.4415762  0.43986105 0.43964394 ... 0.37907078 0.39209726 0.38884064]\n",
      " ...\n",
      " [0.04122883 0.03929657 0.03386887 ... 0.00295267 0.00295267 0.00295267]\n",
      " [0.03929657 0.03386887 0.02909249 ... 0.00295267 0.00295267 0.00295267]\n",
      " [0.03386887 0.02909249 0.02844116 ... 0.00295267 0.00295267 0.00295267]]\n"
     ]
    }
   ],
   "source": [
    "print(x_train)"
   ]
  },
  {
   "cell_type": "code",
   "execution_count": 26,
   "metadata": {},
   "outputs": [
    {
     "name": "stdout",
     "output_type": "stream",
     "text": [
      "(942, 100)\n",
      "(942,)\n"
     ]
    },
    {
     "data": {
      "text/plain": [
       "(None, None)"
      ]
     },
     "execution_count": 26,
     "metadata": {},
     "output_type": "execute_result"
    }
   ],
   "source": [
    "print(x_train.shape), print(y_train.shape)"
   ]
  },
  {
   "cell_type": "code",
   "execution_count": 27,
   "metadata": {},
   "outputs": [
    {
     "name": "stdout",
     "output_type": "stream",
     "text": [
      "(15, 100)\n",
      "(15,)\n"
     ]
    },
    {
     "data": {
      "text/plain": [
       "(None, None)"
      ]
     },
     "execution_count": 27,
     "metadata": {},
     "output_type": "execute_result"
    }
   ],
   "source": [
    "print(x_test.shape), print(y_test.shape)"
   ]
  },
  {
   "cell_type": "code",
   "execution_count": 39,
   "metadata": {},
   "outputs": [
    {
     "data": {
      "text/plain": [
       "(942, 100, 1)"
      ]
     },
     "execution_count": 39,
     "metadata": {},
     "output_type": "execute_result"
    }
   ],
   "source": [
    "x_train.shape"
   ]
  },
  {
   "cell_type": "code",
   "execution_count": 28,
   "metadata": {},
   "outputs": [],
   "source": [
    "x_train = x_train.reshape(x_train.shape[0], x_train.shape[1], 1)\n",
    "x_test = x_test.reshape(x_test.shape[0], x_test.shape[1], 1)"
   ]
  },
  {
   "cell_type": "code",
   "execution_count": 31,
   "metadata": {},
   "outputs": [],
   "source": [
    "from tensorflow.keras.models import Sequential\n",
    "from tensorflow.keras.layers import Dense, LSTM, Dropout"
   ]
  },
  {
   "cell_type": "code",
   "execution_count": 36,
   "metadata": {},
   "outputs": [],
   "source": [
    "model = Sequential()\n",
    "model.add(LSTM(60, return_sequences = True, input_shape = (100, 1)))\n",
    "model.add(LSTM(60, return_sequences = True))\n",
    "model.add(LSTM(60))\n",
    "model.add(Dense(1))\n",
    "model.add(Dropout(0.2))\n",
    "model.compile(loss='mean_squared_error', optimizer='adam')"
   ]
  },
  {
   "cell_type": "code",
   "execution_count": 37,
   "metadata": {},
   "outputs": [
    {
     "name": "stdout",
     "output_type": "stream",
     "text": [
      "Model: \"sequential_2\"\n",
      "_________________________________________________________________\n",
      "Layer (type)                 Output Shape              Param #   \n",
      "=================================================================\n",
      "lstm_5 (LSTM)                (None, 100, 60)           14880     \n",
      "_________________________________________________________________\n",
      "lstm_6 (LSTM)                (None, 100, 60)           29040     \n",
      "_________________________________________________________________\n",
      "lstm_7 (LSTM)                (None, 60)                29040     \n",
      "_________________________________________________________________\n",
      "dense_1 (Dense)              (None, 1)                 61        \n",
      "_________________________________________________________________\n",
      "dropout_4 (Dropout)          (None, 1)                 0         \n",
      "=================================================================\n",
      "Total params: 73,021\n",
      "Trainable params: 73,021\n",
      "Non-trainable params: 0\n",
      "_________________________________________________________________\n"
     ]
    }
   ],
   "source": [
    "model.summary()"
   ]
  },
  {
   "cell_type": "code",
   "execution_count": 40,
   "metadata": {},
   "outputs": [
    {
     "name": "stdout",
     "output_type": "stream",
     "text": [
      "Epoch 1/100\n",
      "15/15 [==============================] - 4s 249ms/step - loss: 0.0623 - val_loss: 0.0018\n",
      "Epoch 2/100\n",
      "15/15 [==============================] - 2s 159ms/step - loss: 0.0399 - val_loss: 6.7281e-05\n",
      "Epoch 3/100\n",
      "15/15 [==============================] - 3s 173ms/step - loss: 0.0384 - val_loss: 9.2004e-04\n",
      "Epoch 4/100\n",
      "15/15 [==============================] - 3s 172ms/step - loss: 0.0371 - val_loss: 3.2896e-04\n",
      "Epoch 5/100\n",
      "15/15 [==============================] - 2s 166ms/step - loss: 0.0443 - val_loss: 3.0265e-04\n",
      "Epoch 6/100\n",
      "15/15 [==============================] - 2s 166ms/step - loss: 0.0357 - val_loss: 1.9390e-04\n",
      "Epoch 7/100\n",
      "15/15 [==============================] - 2s 166ms/step - loss: 0.0387 - val_loss: 3.4405e-04\n",
      "Epoch 8/100\n",
      "15/15 [==============================] - 2s 163ms/step - loss: 0.0354 - val_loss: 3.8710e-04\n",
      "Epoch 9/100\n",
      "15/15 [==============================] - 2s 160ms/step - loss: 0.0410 - val_loss: 4.1845e-04\n",
      "Epoch 10/100\n",
      "15/15 [==============================] - 2s 159ms/step - loss: 0.0357 - val_loss: 2.7141e-04\n",
      "Epoch 11/100\n",
      "15/15 [==============================] - 2s 166ms/step - loss: 0.0349 - val_loss: 8.1161e-04\n",
      "Epoch 12/100\n",
      "15/15 [==============================] - 2s 165ms/step - loss: 0.0365 - val_loss: 1.0551e-04\n",
      "Epoch 13/100\n",
      "15/15 [==============================] - 2s 163ms/step - loss: 0.0349 - val_loss: 6.5050e-04\n",
      "Epoch 14/100\n",
      "15/15 [==============================] - 2s 165ms/step - loss: 0.0354 - val_loss: 6.1577e-04\n",
      "Epoch 15/100\n",
      "15/15 [==============================] - 2s 166ms/step - loss: 0.0357 - val_loss: 4.2510e-04\n",
      "Epoch 16/100\n",
      "15/15 [==============================] - 2s 165ms/step - loss: 0.0315 - val_loss: 6.7608e-04\n",
      "Epoch 17/100\n",
      "15/15 [==============================] - 3s 170ms/step - loss: 0.0394 - val_loss: 3.5290e-04\n",
      "Epoch 18/100\n",
      "15/15 [==============================] - 3s 172ms/step - loss: 0.0341 - val_loss: 4.8981e-04\n",
      "Epoch 19/100\n",
      "15/15 [==============================] - 3s 178ms/step - loss: 0.0406 - val_loss: 8.3035e-04\n",
      "Epoch 20/100\n",
      "15/15 [==============================] - 3s 184ms/step - loss: 0.0384 - val_loss: 3.0593e-04\n",
      "Epoch 21/100\n",
      "15/15 [==============================] - 3s 184ms/step - loss: 0.0335 - val_loss: 2.8023e-04\n",
      "Epoch 22/100\n",
      "15/15 [==============================] - 3s 181ms/step - loss: 0.0333 - val_loss: 6.0409e-04\n",
      "Epoch 23/100\n",
      "15/15 [==============================] - 3s 185ms/step - loss: 0.0387 - val_loss: 3.0662e-04\n",
      "Epoch 24/100\n",
      "15/15 [==============================] - 3s 181ms/step - loss: 0.0366 - val_loss: 0.0010\n",
      "Epoch 25/100\n",
      "15/15 [==============================] - 3s 184ms/step - loss: 0.0319 - val_loss: 1.3244e-04 1s - l\n",
      "Epoch 26/100\n",
      "15/15 [==============================] - 3s 181ms/step - loss: 0.0347 - val_loss: 1.9409e-04\n",
      "Epoch 27/100\n",
      "15/15 [==============================] - 3s 191ms/step - loss: 0.0358 - val_loss: 4.5553e-04\n",
      "Epoch 28/100\n",
      "15/15 [==============================] - 3s 176ms/step - loss: 0.0373 - val_loss: 5.8792e-04\n",
      "Epoch 29/100\n",
      "15/15 [==============================] - 3s 174ms/step - loss: 0.0364 - val_loss: 3.9619e-04\n",
      "Epoch 30/100\n",
      "15/15 [==============================] - 3s 177ms/step - loss: 0.0393 - val_loss: 3.5397e-04\n",
      "Epoch 31/100\n",
      "15/15 [==============================] - 3s 172ms/step - loss: 0.0333 - val_loss: 5.6063e-04\n",
      "Epoch 32/100\n",
      "15/15 [==============================] - 3s 174ms/step - loss: 0.0344 - val_loss: 2.6793e-04\n",
      "Epoch 33/100\n",
      "15/15 [==============================] - 3s 179ms/step - loss: 0.0353 - val_loss: 1.1644e-04\n",
      "Epoch 34/100\n",
      "15/15 [==============================] - 3s 184ms/step - loss: 0.0336 - val_loss: 4.3485e-04\n",
      "Epoch 35/100\n",
      "15/15 [==============================] - 3s 184ms/step - loss: 0.0376 - val_loss: 8.0594e-04\n",
      "Epoch 36/100\n",
      "15/15 [==============================] - 3s 179ms/step - loss: 0.0353 - val_loss: 6.7928e-05\n",
      "Epoch 37/100\n",
      "15/15 [==============================] - 3s 186ms/step - loss: 0.0323 - val_loss: 6.1482e-04\n",
      "Epoch 38/100\n",
      "15/15 [==============================] - 3s 179ms/step - loss: 0.0428 - val_loss: 3.8017e-04\n",
      "Epoch 39/100\n",
      "15/15 [==============================] - 3s 187ms/step - loss: 0.0386 - val_loss: 7.8795e-05\n",
      "Epoch 40/100\n",
      "15/15 [==============================] - 3s 176ms/step - loss: 0.0360 - val_loss: 9.8150e-04\n",
      "Epoch 41/100\n",
      "15/15 [==============================] - 3s 182ms/step - loss: 0.0377 - val_loss: 6.0645e-05\n",
      "Epoch 42/100\n",
      "15/15 [==============================] - 3s 188ms/step - loss: 0.0373 - val_loss: 2.9205e-04\n",
      "Epoch 43/100\n",
      "15/15 [==============================] - 3s 177ms/step - loss: 0.0438 - val_loss: 5.9845e-04\n",
      "Epoch 44/100\n",
      "15/15 [==============================] - 3s 188ms/step - loss: 0.0342 - val_loss: 9.9743e-05\n",
      "Epoch 45/100\n",
      "15/15 [==============================] - 3s 173ms/step - loss: 0.0324 - val_loss: 6.4236e-04\n",
      "Epoch 46/100\n",
      "15/15 [==============================] - 3s 179ms/step - loss: 0.0346 - val_loss: 2.2317e-04\n",
      "Epoch 47/100\n",
      "15/15 [==============================] - 3s 178ms/step - loss: 0.0405 - val_loss: 3.1767e-04\n",
      "Epoch 48/100\n",
      "15/15 [==============================] - 3s 171ms/step - loss: 0.0370 - val_loss: 2.8004e-04\n",
      "Epoch 49/100\n",
      "15/15 [==============================] - 3s 169ms/step - loss: 0.0338 - val_loss: 3.8234e-04\n",
      "Epoch 50/100\n",
      "15/15 [==============================] - 3s 172ms/step - loss: 0.0373 - val_loss: 2.2384e-04\n",
      "Epoch 51/100\n",
      "15/15 [==============================] - 3s 171ms/step - loss: 0.0355 - val_loss: 2.7421e-04\n",
      "Epoch 52/100\n",
      "15/15 [==============================] - 3s 182ms/step - loss: 0.0373 - val_loss: 1.6164e-04\n",
      "Epoch 53/100\n",
      "15/15 [==============================] - 3s 182ms/step - loss: 0.0344 - val_loss: 2.3059e-04\n",
      "Epoch 54/100\n",
      "15/15 [==============================] - 3s 181ms/step - loss: 0.0328 - val_loss: 1.8353e-04\n",
      "Epoch 55/100\n",
      "15/15 [==============================] - 3s 172ms/step - loss: 0.0335 - val_loss: 5.7956e-04\n",
      "Epoch 56/100\n",
      "15/15 [==============================] - 3s 180ms/step - loss: 0.0345 - val_loss: 5.1857e-05\n",
      "Epoch 57/100\n",
      "15/15 [==============================] - 3s 182ms/step - loss: 0.0328 - val_loss: 7.6831e-04\n",
      "Epoch 58/100\n",
      "15/15 [==============================] - 3s 176ms/step - loss: 0.0374 - val_loss: 3.2730e-05\n",
      "Epoch 59/100\n",
      "15/15 [==============================] - 3s 181ms/step - loss: 0.0357 - val_loss: 6.3429e-04\n",
      "Epoch 60/100\n",
      "15/15 [==============================] - 3s 192ms/step - loss: 0.0356 - val_loss: 2.1019e-04\n",
      "Epoch 61/100\n",
      "15/15 [==============================] - 3s 169ms/step - loss: 0.0309 - val_loss: 3.4672e-04\n",
      "Epoch 62/100\n",
      "15/15 [==============================] - 3s 171ms/step - loss: 0.0350 - val_loss: 2.2180e-04\n",
      "Epoch 63/100\n",
      "15/15 [==============================] - 3s 171ms/step - loss: 0.0301 - val_loss: 4.9149e-04\n",
      "Epoch 64/100\n",
      "15/15 [==============================] - 3s 177ms/step - loss: 0.0334 - val_loss: 1.2971e-04\n",
      "Epoch 65/100\n",
      "15/15 [==============================] - 3s 181ms/step - loss: 0.0342 - val_loss: 3.9467e-04\n",
      "Epoch 66/100\n",
      "15/15 [==============================] - 3s 178ms/step - loss: 0.0366 - val_loss: 2.0037e-04\n",
      "Epoch 67/100\n",
      "15/15 [==============================] - 3s 182ms/step - loss: 0.0299 - val_loss: 3.5366e-04\n",
      "Epoch 68/100\n",
      "15/15 [==============================] - 3s 186ms/step - loss: 0.0362 - val_loss: 1.2895e-04\n",
      "Epoch 69/100\n",
      "15/15 [==============================] - 3s 191ms/step - loss: 0.0346 - val_loss: 2.1779e-04\n",
      "Epoch 70/100\n",
      "15/15 [==============================] - 3s 195ms/step - loss: 0.0344 - val_loss: 5.2721e-04\n",
      "Epoch 71/100\n",
      "15/15 [==============================] - 3s 193ms/step - loss: 0.0338 - val_loss: 3.7045e-04\n",
      "Epoch 72/100\n",
      "15/15 [==============================] - 3s 184ms/step - loss: 0.0304 - val_loss: 2.1926e-04\n",
      "Epoch 73/100\n",
      "15/15 [==============================] - 3s 172ms/step - loss: 0.0380 - val_loss: 3.9993e-04\n",
      "Epoch 74/100\n",
      "15/15 [==============================] - 3s 171ms/step - loss: 0.0367 - val_loss: 1.1624e-04\n",
      "Epoch 75/100\n",
      "15/15 [==============================] - 3s 173ms/step - loss: 0.0357 - val_loss: 4.5763e-04\n",
      "Epoch 76/100\n",
      "15/15 [==============================] - 3s 169ms/step - loss: 0.0334 - val_loss: 1.2474e-04\n",
      "Epoch 77/100\n",
      "15/15 [==============================] - 3s 180ms/step - loss: 0.0360 - val_loss: 5.9335e-04\n",
      "Epoch 78/100\n",
      "15/15 [==============================] - 3s 180ms/step - loss: 0.0329 - val_loss: 7.1508e-04\n",
      "Epoch 79/100\n",
      "15/15 [==============================] - 3s 184ms/step - loss: 0.0314 - val_loss: 3.1378e-05\n",
      "Epoch 80/100\n",
      "15/15 [==============================] - 3s 183ms/step - loss: 0.0386 - val_loss: 7.2593e-04\n",
      "Epoch 81/100\n",
      "15/15 [==============================] - 3s 175ms/step - loss: 0.0370 - val_loss: 4.3029e-04\n",
      "Epoch 82/100\n",
      "15/15 [==============================] - 3s 171ms/step - loss: 0.0350 - val_loss: 1.9500e-04\n",
      "Epoch 83/100\n",
      "15/15 [==============================] - 3s 170ms/step - loss: 0.0369 - val_loss: 3.7957e-04\n",
      "Epoch 84/100\n",
      "15/15 [==============================] - 3s 183ms/step - loss: 0.0337 - val_loss: 2.0780e-04\n",
      "Epoch 85/100\n",
      "15/15 [==============================] - 5s 338ms/step - loss: 0.0375 - val_loss: 1.4761e-04\n",
      "Epoch 86/100\n",
      "15/15 [==============================] - 4s 267ms/step - loss: 0.0371 - val_loss: 1.5136e-04\n",
      "Epoch 87/100\n",
      "15/15 [==============================] - 3s 188ms/step - loss: 0.0321 - val_loss: 4.7221e-04\n",
      "Epoch 88/100\n",
      "15/15 [==============================] - 3s 182ms/step - loss: 0.0323 - val_loss: 3.8591e-04\n",
      "Epoch 89/100\n",
      "15/15 [==============================] - 4s 298ms/step - loss: 0.0329 - val_loss: 2.7377e-04\n",
      "Epoch 90/100\n",
      "15/15 [==============================] - 5s 343ms/step - loss: 0.0378 - val_loss: 3.0119e-04\n",
      "Epoch 91/100\n",
      "15/15 [==============================] - 3s 184ms/step - loss: 0.0322 - val_loss: 2.5446e-04\n",
      "Epoch 92/100\n",
      "15/15 [==============================] - 3s 182ms/step - loss: 0.0345 - val_loss: 3.3744e-04\n",
      "Epoch 93/100\n",
      "15/15 [==============================] - 7s 448ms/step - loss: 0.0347 - val_loss: 4.6156e-04\n",
      "Epoch 94/100\n",
      "15/15 [==============================] - 3s 180ms/step - loss: 0.0324 - val_loss: 8.4608e-05\n",
      "Epoch 95/100\n",
      "15/15 [==============================] - 3s 188ms/step - loss: 0.0353 - val_loss: 3.7805e-04\n",
      "Epoch 96/100\n",
      "15/15 [==============================] - 3s 185ms/step - loss: 0.0373 - val_loss: 5.3984e-04\n",
      "Epoch 97/100\n",
      "15/15 [==============================] - 3s 182ms/step - loss: 0.0369 - val_loss: 1.7542e-04\n",
      "Epoch 98/100\n",
      "15/15 [==============================] - 3s 189ms/step - loss: 0.0330 - val_loss: 6.6145e-05\n",
      "Epoch 99/100\n",
      "15/15 [==============================] - 3s 195ms/step - loss: 0.0348 - val_loss: 2.3692e-04\n",
      "Epoch 100/100\n",
      "15/15 [==============================] - 3s 207ms/step - loss: 0.0373 - val_loss: 4.9200e-04\n"
     ]
    },
    {
     "data": {
      "text/plain": [
       "<tensorflow.python.keras.callbacks.History at 0x1f3f315dd88>"
      ]
     },
     "execution_count": 40,
     "metadata": {},
     "output_type": "execute_result"
    }
   ],
   "source": [
    "model.fit(x_train, y_train, validation_data = (x_test, y_test), epochs = 100, batch_size = 64, verbose = 1)"
   ]
  },
  {
   "cell_type": "code",
   "execution_count": 42,
   "metadata": {},
   "outputs": [],
   "source": [
    "import tensorflow as tf"
   ]
  },
  {
   "cell_type": "code",
   "execution_count": 43,
   "metadata": {},
   "outputs": [],
   "source": [
    "predict_train = model.predict(x_train)\n",
    "predict_test = model.predict(x_test)"
   ]
  },
  {
   "cell_type": "code",
   "execution_count": 44,
   "metadata": {},
   "outputs": [],
   "source": [
    "predict_train = scaler.inverse_transform(predict_train)\n",
    "predict_test = scaler.inverse_transform(predict_test)"
   ]
  },
  {
   "cell_type": "code",
   "execution_count": 45,
   "metadata": {},
   "outputs": [
    {
     "data": {
      "text/plain": [
       "2310.2347479651767"
      ]
     },
     "execution_count": 45,
     "metadata": {},
     "output_type": "execute_result"
    }
   ],
   "source": [
    "import math as mp \n",
    "from sklearn.metrics import mean_squared_error\n",
    "mp.sqrt(mean_squared_error(y_train, predict_train))"
   ]
  },
  {
   "cell_type": "code",
   "execution_count": 46,
   "metadata": {},
   "outputs": [
    {
     "data": {
      "text/plain": [
       "1002.9609943018546"
      ]
     },
     "execution_count": 46,
     "metadata": {},
     "output_type": "execute_result"
    }
   ],
   "source": [
    "mp.sqrt(mean_squared_error(y_test, predict_test))"
   ]
  },
  {
   "cell_type": "code",
   "execution_count": 49,
   "metadata": {},
   "outputs": [
    {
     "data": {
      "image/png": "[encoded data removed]",
      "text/plain": [
       "<Figure size 432x288 with 1 Axes>"
      ]
     },
     "metadata": {
      "needs_background": "light"
     },
     "output_type": "display_data"
    }
   ],
   "source": [
    "### Plotting\n",
    "# Shifts train predictions for Plotting \n",
    "look_back = 100\n",
    "trainPredictPlot = np.empty_like(df_h)\n",
    "trainPredictPlot[:,:] = np.nan\n",
    "trainPredictPlot[look_back: len(predict_train) + look_back: ] = predict_train\n",
    "# Shifts train predictions for Plotting \n",
    "testPredictPlot = np.empty_like(df_h)\n",
    "testPredictPlot[:, :] = np.nan\n",
    "testPredictPlot[len(predict_train) + (look_back*2)  + 1: len(df_h) - 1, : ] = predict_test\n",
    "plt.plot(scaler.inverse_transform(df_h))\n",
    "plt.plot(trainPredictPlot)\n",
    "plt.plot(testPredictPlot)\n",
    "plt.show()"
   ]
  },
  {
   "cell_type": "code",
   "execution_count": 50,
   "metadata": {},
   "outputs": [
    {
     "data": {
      "text/plain": [
       "116"
      ]
     },
     "execution_count": 50,
     "metadata": {},
     "output_type": "execute_result"
    }
   ],
   "source": [
    "len(test_data)"
   ]
  },
  {
   "cell_type": "code",
   "execution_count": 51,
   "metadata": {},
   "outputs": [
    {
     "data": {
      "text/plain": [
       "(1, 100)"
      ]
     },
     "execution_count": 51,
     "metadata": {},
     "output_type": "execute_result"
    }
   ],
   "source": [
    "x_input = test_data[16:].reshape(1, -1)\n",
    "x_input.shape"
   ]
  },
  {
   "cell_type": "code",
   "execution_count": 52,
   "metadata": {},
   "outputs": [],
   "source": [
    "temp_input=list(x_input)\n",
    "temp_input = temp_input[0].tolist()"
   ]
  },
  {
   "cell_type": "code",
   "execution_count": 53,
   "metadata": {},
   "outputs": [
    {
     "data": {
      "text/plain": [
       "[0.002952670429874099,\n",
       " 0.002952670429874099,\n",
       " 0.008250108554059943,\n",
       " 0.008901432913590968,\n",
       " 0.015197568389057753,\n",
       " 0.019756838905775093,\n",
       " 0.016500217108119858,\n",
       " 0.016500217108119858,\n",
       " 0.013894919669995676,\n",
       " 0.014980460269214069,\n",
       " 0.013764654798089443,\n",
       " 0.023013460703430327,\n",
       " 0.029526704298740797,\n",
       " 0.030872774641771628,\n",
       " 0.041684759009987,\n",
       " 0.046895353886235364,\n",
       " 0.04580981328701694,\n",
       " 0.043421623968736445,\n",
       " 0.04170646982197135,\n",
       " 0.044507164567954866,\n",
       " 0.03899261832392531,\n",
       " 0.041467650890143315,\n",
       " 0.04027355623100304,\n",
       " 0.041641337386018246,\n",
       " 0.04259661311333046,\n",
       " 0.04394268345636129,\n",
       " 0.04711246200607905,\n",
       " 0.05775075987841946,\n",
       " 0.06752062527138517,\n",
       " 0.06704298740772904,\n",
       " 0.067216673903604,\n",
       " 0.06122448979591841,\n",
       " 0.05666521927920107,\n",
       " 0.057989578810247494,\n",
       " 0.0555579678679983,\n",
       " 0.05102040816326531,\n",
       " 0.045375597047329574,\n",
       " 0.049088145896656527,\n",
       " 0.05102040816326531,\n",
       " 0.05036908380373428,\n",
       " 0.049500651324359546,\n",
       " 0.0452453321754234,\n",
       " 0.04320451584889276,\n",
       " 0.0447025618758142,\n",
       " 0.043573599652627026,\n",
       " 0.04209726443768999,\n",
       " 0.04255319148936171,\n",
       " 0.03929656969170647,\n",
       " 0.042314372557533675,\n",
       " 0.046895353886235364,\n",
       " 0.05427702996092054,\n",
       " 0.05169344333478071,\n",
       " 0.05141120277898395,\n",
       " 0.04928354320451586,\n",
       " 0.05334346504559273,\n",
       " 0.04880590534085974,\n",
       " 0.04559270516717326,\n",
       " 0.04472427268779855,\n",
       " 0.04274858879722104,\n",
       " 0.04385584020842381,\n",
       " 0.04580981328701694,\n",
       " 0.04363873208858013,\n",
       " 0.04385584020842381,\n",
       " 0.04515848892748589,\n",
       " 0.04620060790273556,\n",
       " 0.05970473295701259,\n",
       " 0.04826313504125054,\n",
       " 0.04363873208858013,\n",
       " 0.04016500217108121,\n",
       " 0.03821102909248808,\n",
       " 0.03821102909248808,\n",
       " 0.03603994789405124,\n",
       " 0.0356057316543639,\n",
       " 0.034954407294832845,\n",
       " 0.03213200173686498,\n",
       " 0.03169778549717761,\n",
       " 0.03165436387320886,\n",
       " 0.03148067737733393,\n",
       " 0.03059053408597484,\n",
       " 0.02993920972644379,\n",
       " 0.031003039513677805,\n",
       " 0.03601823708206689,\n",
       " 0.03940512375162833,\n",
       " 0.039274858879722124,\n",
       " 0.038514980460269244,\n",
       " 0.036908380373425975,\n",
       " 0.0356057316543639,\n",
       " 0.03818931828050373,\n",
       " 0.049934867564046914,\n",
       " 0.049500651324359546,\n",
       " 0.053842813721233174,\n",
       " 0.05123751628310899,\n",
       " 0.04971775944420323,\n",
       " 0.04667824576639168,\n",
       " 0.0440729483282675,\n",
       " 0.042509769865392955,\n",
       " 0.04211897524967434,\n",
       " 0.047655232305688244,\n",
       " 0.0501519756838906,\n",
       " 0.058836300477637854]"
      ]
     },
     "execution_count": 53,
     "metadata": {},
     "output_type": "execute_result"
    }
   ],
   "source": [
    "temp_input"
   ]
  },
  {
   "cell_type": "code",
   "execution_count": 55,
   "metadata": {},
   "outputs": [
    {
     "name": "stdout",
     "output_type": "stream",
     "text": [
      "[0.02856432]\n",
      "101\n",
      "1 day input [0.00295267 0.00825011 0.00890143 0.01519757 0.01975684 0.01650022\n",
      " 0.01650022 0.01389492 0.01498046 0.01376465 0.02301346 0.0295267\n",
      " 0.03087277 0.04168476 0.04689535 0.04580981 0.04342162 0.04170647\n",
      " 0.04450716 0.03899262 0.04146765 0.04027356 0.04164134 0.04259661\n",
      " 0.04394268 0.04711246 0.05775076 0.06752063 0.06704299 0.06721667\n",
      " 0.06122449 0.05666522 0.05798958 0.05555797 0.05102041 0.0453756\n",
      " 0.04908815 0.05102041 0.05036908 0.04950065 0.04524533 0.04320452\n",
      " 0.04470256 0.0435736  0.04209726 0.04255319 0.03929657 0.04231437\n",
      " 0.04689535 0.05427703 0.05169344 0.0514112  0.04928354 0.05334347\n",
      " 0.04880591 0.04559271 0.04472427 0.04274859 0.04385584 0.04580981\n",
      " 0.04363873 0.04385584 0.04515849 0.04620061 0.05970473 0.04826314\n",
      " 0.04363873 0.040165   0.03821103 0.03821103 0.03603995 0.03560573\n",
      " 0.03495441 0.032132   0.03169779 0.03165436 0.03148068 0.03059053\n",
      " 0.02993921 0.03100304 0.03601824 0.03940512 0.03927486 0.03851498\n",
      " 0.03690838 0.03560573 0.03818932 0.04993487 0.04950065 0.05384281\n",
      " 0.05123752 0.04971776 0.04667825 0.04407295 0.04250977 0.04211898\n",
      " 0.04765523 0.05015198 0.0588363  0.02856432]\n",
      "1 day output [[0.02854437]]\n",
      "2 day input [0.00825011 0.00890143 0.01519757 0.01975684 0.01650022 0.01650022\n",
      " 0.01389492 0.01498046 0.01376465 0.02301346 0.0295267  0.03087277\n",
      " 0.04168476 0.04689535 0.04580981 0.04342162 0.04170647 0.04450716\n",
      " 0.03899262 0.04146765 0.04027356 0.04164134 0.04259661 0.04394268\n",
      " 0.04711246 0.05775076 0.06752063 0.06704299 0.06721667 0.06122449\n",
      " 0.05666522 0.05798958 0.05555797 0.05102041 0.0453756  0.04908815\n",
      " 0.05102041 0.05036908 0.04950065 0.04524533 0.04320452 0.04470256\n",
      " 0.0435736  0.04209726 0.04255319 0.03929657 0.04231437 0.04689535\n",
      " 0.05427703 0.05169344 0.0514112  0.04928354 0.05334347 0.04880591\n",
      " 0.04559271 0.04472427 0.04274859 0.04385584 0.04580981 0.04363873\n",
      " 0.04385584 0.04515849 0.04620061 0.05970473 0.04826314 0.04363873\n",
      " 0.040165   0.03821103 0.03821103 0.03603995 0.03560573 0.03495441\n",
      " 0.032132   0.03169779 0.03165436 0.03148068 0.03059053 0.02993921\n",
      " 0.03100304 0.03601824 0.03940512 0.03927486 0.03851498 0.03690838\n",
      " 0.03560573 0.03818932 0.04993487 0.04950065 0.05384281 0.05123752\n",
      " 0.04971776 0.04667825 0.04407295 0.04250977 0.04211898 0.04765523\n",
      " 0.05015198 0.0588363  0.02856432 0.02854437]\n",
      "2 day output [[0.0278928]]\n",
      "3 day input [0.00890143 0.01519757 0.01975684 0.01650022 0.01650022 0.01389492\n",
      " 0.01498046 0.01376465 0.02301346 0.0295267  0.03087277 0.04168476\n",
      " 0.04689535 0.04580981 0.04342162 0.04170647 0.04450716 0.03899262\n",
      " 0.04146765 0.04027356 0.04164134 0.04259661 0.04394268 0.04711246\n",
      " 0.05775076 0.06752063 0.06704299 0.06721667 0.06122449 0.05666522\n",
      " 0.05798958 0.05555797 0.05102041 0.0453756  0.04908815 0.05102041\n",
      " 0.05036908 0.04950065 0.04524533 0.04320452 0.04470256 0.0435736\n",
      " 0.04209726 0.04255319 0.03929657 0.04231437 0.04689535 0.05427703\n",
      " 0.05169344 0.0514112  0.04928354 0.05334347 0.04880591 0.04559271\n",
      " 0.04472427 0.04274859 0.04385584 0.04580981 0.04363873 0.04385584\n",
      " 0.04515849 0.04620061 0.05970473 0.04826314 0.04363873 0.040165\n",
      " 0.03821103 0.03821103 0.03603995 0.03560573 0.03495441 0.032132\n",
      " 0.03169779 0.03165436 0.03148068 0.03059053 0.02993921 0.03100304\n",
      " 0.03601824 0.03940512 0.03927486 0.03851498 0.03690838 0.03560573\n",
      " 0.03818932 0.04993487 0.04950065 0.05384281 0.05123752 0.04971776\n",
      " 0.04667825 0.04407295 0.04250977 0.04211898 0.04765523 0.05015198\n",
      " 0.0588363  0.02856432 0.02854437 0.0278928 ]\n",
      "3 day output [[0.02668384]]\n",
      "4 day input [0.01519757 0.01975684 0.01650022 0.01650022 0.01389492 0.01498046\n",
      " 0.01376465 0.02301346 0.0295267  0.03087277 0.04168476 0.04689535\n",
      " 0.04580981 0.04342162 0.04170647 0.04450716 0.03899262 0.04146765\n",
      " 0.04027356 0.04164134 0.04259661 0.04394268 0.04711246 0.05775076\n",
      " 0.06752063 0.06704299 0.06721667 0.06122449 0.05666522 0.05798958\n",
      " 0.05555797 0.05102041 0.0453756  0.04908815 0.05102041 0.05036908\n",
      " 0.04950065 0.04524533 0.04320452 0.04470256 0.0435736  0.04209726\n",
      " 0.04255319 0.03929657 0.04231437 0.04689535 0.05427703 0.05169344\n",
      " 0.0514112  0.04928354 0.05334347 0.04880591 0.04559271 0.04472427\n",
      " 0.04274859 0.04385584 0.04580981 0.04363873 0.04385584 0.04515849\n",
      " 0.04620061 0.05970473 0.04826314 0.04363873 0.040165   0.03821103\n",
      " 0.03821103 0.03603995 0.03560573 0.03495441 0.032132   0.03169779\n",
      " 0.03165436 0.03148068 0.03059053 0.02993921 0.03100304 0.03601824\n",
      " 0.03940512 0.03927486 0.03851498 0.03690838 0.03560573 0.03818932\n",
      " 0.04993487 0.04950065 0.05384281 0.05123752 0.04971776 0.04667825\n",
      " 0.04407295 0.04250977 0.04211898 0.04765523 0.05015198 0.0588363\n",
      " 0.02856432 0.02854437 0.0278928  0.02668384]\n",
      "4 day output [[0.02509044]]\n",
      "5 day input [0.01975684 0.01650022 0.01650022 0.01389492 0.01498046 0.01376465\n",
      " 0.02301346 0.0295267  0.03087277 0.04168476 0.04689535 0.04580981\n",
      " 0.04342162 0.04170647 0.04450716 0.03899262 0.04146765 0.04027356\n",
      " 0.04164134 0.04259661 0.04394268 0.04711246 0.05775076 0.06752063\n",
      " 0.06704299 0.06721667 0.06122449 0.05666522 0.05798958 0.05555797\n",
      " 0.05102041 0.0453756  0.04908815 0.05102041 0.05036908 0.04950065\n",
      " 0.04524533 0.04320452 0.04470256 0.0435736  0.04209726 0.04255319\n",
      " 0.03929657 0.04231437 0.04689535 0.05427703 0.05169344 0.0514112\n",
      " 0.04928354 0.05334347 0.04880591 0.04559271 0.04472427 0.04274859\n",
      " 0.04385584 0.04580981 0.04363873 0.04385584 0.04515849 0.04620061\n",
      " 0.05970473 0.04826314 0.04363873 0.040165   0.03821103 0.03821103\n",
      " 0.03603995 0.03560573 0.03495441 0.032132   0.03169779 0.03165436\n",
      " 0.03148068 0.03059053 0.02993921 0.03100304 0.03601824 0.03940512\n",
      " 0.03927486 0.03851498 0.03690838 0.03560573 0.03818932 0.04993487\n",
      " 0.04950065 0.05384281 0.05123752 0.04971776 0.04667825 0.04407295\n",
      " 0.04250977 0.04211898 0.04765523 0.05015198 0.0588363  0.02856432\n",
      " 0.02854437 0.0278928  0.02668384 0.02509044]\n",
      "5 day output [[0.02328426]]\n",
      "6 day input [0.01650022 0.01650022 0.01389492 0.01498046 0.01376465 0.02301346\n",
      " 0.0295267  0.03087277 0.04168476 0.04689535 0.04580981 0.04342162\n",
      " 0.04170647 0.04450716 0.03899262 0.04146765 0.04027356 0.04164134\n",
      " 0.04259661 0.04394268 0.04711246 0.05775076 0.06752063 0.06704299\n",
      " 0.06721667 0.06122449 0.05666522 0.05798958 0.05555797 0.05102041\n",
      " 0.0453756  0.04908815 0.05102041 0.05036908 0.04950065 0.04524533\n",
      " 0.04320452 0.04470256 0.0435736  0.04209726 0.04255319 0.03929657\n",
      " 0.04231437 0.04689535 0.05427703 0.05169344 0.0514112  0.04928354\n",
      " 0.05334347 0.04880591 0.04559271 0.04472427 0.04274859 0.04385584\n",
      " 0.04580981 0.04363873 0.04385584 0.04515849 0.04620061 0.05970473\n",
      " 0.04826314 0.04363873 0.040165   0.03821103 0.03821103 0.03603995\n",
      " 0.03560573 0.03495441 0.032132   0.03169779 0.03165436 0.03148068\n",
      " 0.03059053 0.02993921 0.03100304 0.03601824 0.03940512 0.03927486\n",
      " 0.03851498 0.03690838 0.03560573 0.03818932 0.04993487 0.04950065\n",
      " 0.05384281 0.05123752 0.04971776 0.04667825 0.04407295 0.04250977\n",
      " 0.04211898 0.04765523 0.05015198 0.0588363  0.02856432 0.02854437\n",
      " 0.0278928  0.02668384 0.02509044 0.02328426]\n",
      "6 day output [[0.02139759]]\n",
      "7 day input [0.01650022 0.01389492 0.01498046 0.01376465 0.02301346 0.0295267\n",
      " 0.03087277 0.04168476 0.04689535 0.04580981 0.04342162 0.04170647\n",
      " 0.04450716 0.03899262 0.04146765 0.04027356 0.04164134 0.04259661\n",
      " 0.04394268 0.04711246 0.05775076 0.06752063 0.06704299 0.06721667\n",
      " 0.06122449 0.05666522 0.05798958 0.05555797 0.05102041 0.0453756\n",
      " 0.04908815 0.05102041 0.05036908 0.04950065 0.04524533 0.04320452\n",
      " 0.04470256 0.0435736  0.04209726 0.04255319 0.03929657 0.04231437\n",
      " 0.04689535 0.05427703 0.05169344 0.0514112  0.04928354 0.05334347\n",
      " 0.04880591 0.04559271 0.04472427 0.04274859 0.04385584 0.04580981\n",
      " 0.04363873 0.04385584 0.04515849 0.04620061 0.05970473 0.04826314\n",
      " 0.04363873 0.040165   0.03821103 0.03821103 0.03603995 0.03560573\n",
      " 0.03495441 0.032132   0.03169779 0.03165436 0.03148068 0.03059053\n",
      " 0.02993921 0.03100304 0.03601824 0.03940512 0.03927486 0.03851498\n",
      " 0.03690838 0.03560573 0.03818932 0.04993487 0.04950065 0.05384281\n",
      " 0.05123752 0.04971776 0.04667825 0.04407295 0.04250977 0.04211898\n",
      " 0.04765523 0.05015198 0.0588363  0.02856432 0.02854437 0.0278928\n",
      " 0.02668384 0.02509044 0.02328426 0.02139759]\n",
      "7 day output [[0.01951731]]\n",
      "8 day input [0.01389492 0.01498046 0.01376465 0.02301346 0.0295267  0.03087277\n",
      " 0.04168476 0.04689535 0.04580981 0.04342162 0.04170647 0.04450716\n",
      " 0.03899262 0.04146765 0.04027356 0.04164134 0.04259661 0.04394268\n",
      " 0.04711246 0.05775076 0.06752063 0.06704299 0.06721667 0.06122449\n",
      " 0.05666522 0.05798958 0.05555797 0.05102041 0.0453756  0.04908815\n",
      " 0.05102041 0.05036908 0.04950065 0.04524533 0.04320452 0.04470256\n",
      " 0.0435736  0.04209726 0.04255319 0.03929657 0.04231437 0.04689535\n",
      " 0.05427703 0.05169344 0.0514112  0.04928354 0.05334347 0.04880591\n",
      " 0.04559271 0.04472427 0.04274859 0.04385584 0.04580981 0.04363873\n",
      " 0.04385584 0.04515849 0.04620061 0.05970473 0.04826314 0.04363873\n",
      " 0.040165   0.03821103 0.03821103 0.03603995 0.03560573 0.03495441\n",
      " 0.032132   0.03169779 0.03165436 0.03148068 0.03059053 0.02993921\n",
      " 0.03100304 0.03601824 0.03940512 0.03927486 0.03851498 0.03690838\n",
      " 0.03560573 0.03818932 0.04993487 0.04950065 0.05384281 0.05123752\n",
      " 0.04971776 0.04667825 0.04407295 0.04250977 0.04211898 0.04765523\n",
      " 0.05015198 0.0588363  0.02856432 0.02854437 0.0278928  0.02668384\n",
      " 0.02509044 0.02328426 0.02139759 0.01951731]\n",
      "8 day output [[0.01769251]]\n",
      "9 day input [0.01498046 0.01376465 0.02301346 0.0295267  0.03087277 0.04168476\n",
      " 0.04689535 0.04580981 0.04342162 0.04170647 0.04450716 0.03899262\n",
      " 0.04146765 0.04027356 0.04164134 0.04259661 0.04394268 0.04711246\n",
      " 0.05775076 0.06752063 0.06704299 0.06721667 0.06122449 0.05666522\n",
      " 0.05798958 0.05555797 0.05102041 0.0453756  0.04908815 0.05102041\n",
      " 0.05036908 0.04950065 0.04524533 0.04320452 0.04470256 0.0435736\n",
      " 0.04209726 0.04255319 0.03929657 0.04231437 0.04689535 0.05427703\n",
      " 0.05169344 0.0514112  0.04928354 0.05334347 0.04880591 0.04559271\n",
      " 0.04472427 0.04274859 0.04385584 0.04580981 0.04363873 0.04385584\n",
      " 0.04515849 0.04620061 0.05970473 0.04826314 0.04363873 0.040165\n",
      " 0.03821103 0.03821103 0.03603995 0.03560573 0.03495441 0.032132\n",
      " 0.03169779 0.03165436 0.03148068 0.03059053 0.02993921 0.03100304\n",
      " 0.03601824 0.03940512 0.03927486 0.03851498 0.03690838 0.03560573\n",
      " 0.03818932 0.04993487 0.04950065 0.05384281 0.05123752 0.04971776\n",
      " 0.04667825 0.04407295 0.04250977 0.04211898 0.04765523 0.05015198\n",
      " 0.0588363  0.02856432 0.02854437 0.0278928  0.02668384 0.02509044\n",
      " 0.02328426 0.02139759 0.01951731 0.01769251]\n",
      "9 day output [[0.01594577]]\n",
      "10 day input [0.01376465 0.02301346 0.0295267  0.03087277 0.04168476 0.04689535\n",
      " 0.04580981 0.04342162 0.04170647 0.04450716 0.03899262 0.04146765\n",
      " 0.04027356 0.04164134 0.04259661 0.04394268 0.04711246 0.05775076\n",
      " 0.06752063 0.06704299 0.06721667 0.06122449 0.05666522 0.05798958\n",
      " 0.05555797 0.05102041 0.0453756  0.04908815 0.05102041 0.05036908\n",
      " 0.04950065 0.04524533 0.04320452 0.04470256 0.0435736  0.04209726\n",
      " 0.04255319 0.03929657 0.04231437 0.04689535 0.05427703 0.05169344\n",
      " 0.0514112  0.04928354 0.05334347 0.04880591 0.04559271 0.04472427\n",
      " 0.04274859 0.04385584 0.04580981 0.04363873 0.04385584 0.04515849\n",
      " 0.04620061 0.05970473 0.04826314 0.04363873 0.040165   0.03821103\n",
      " 0.03821103 0.03603995 0.03560573 0.03495441 0.032132   0.03169779\n",
      " 0.03165436 0.03148068 0.03059053 0.02993921 0.03100304 0.03601824\n",
      " 0.03940512 0.03927486 0.03851498 0.03690838 0.03560573 0.03818932\n",
      " 0.04993487 0.04950065 0.05384281 0.05123752 0.04971776 0.04667825\n",
      " 0.04407295 0.04250977 0.04211898 0.04765523 0.05015198 0.0588363\n",
      " 0.02856432 0.02854437 0.0278928  0.02668384 0.02509044 0.02328426\n",
      " 0.02139759 0.01951731 0.01769251 0.01594577]\n",
      "10 day output [[0.01428333]]\n",
      "11 day input [0.02301346 0.0295267  0.03087277 0.04168476 0.04689535 0.04580981\n",
      " 0.04342162 0.04170647 0.04450716 0.03899262 0.04146765 0.04027356\n",
      " 0.04164134 0.04259661 0.04394268 0.04711246 0.05775076 0.06752063\n",
      " 0.06704299 0.06721667 0.06122449 0.05666522 0.05798958 0.05555797\n",
      " 0.05102041 0.0453756  0.04908815 0.05102041 0.05036908 0.04950065\n",
      " 0.04524533 0.04320452 0.04470256 0.0435736  0.04209726 0.04255319\n",
      " 0.03929657 0.04231437 0.04689535 0.05427703 0.05169344 0.0514112\n",
      " 0.04928354 0.05334347 0.04880591 0.04559271 0.04472427 0.04274859\n",
      " 0.04385584 0.04580981 0.04363873 0.04385584 0.04515849 0.04620061\n",
      " 0.05970473 0.04826314 0.04363873 0.040165   0.03821103 0.03821103\n",
      " 0.03603995 0.03560573 0.03495441 0.032132   0.03169779 0.03165436\n",
      " 0.03148068 0.03059053 0.02993921 0.03100304 0.03601824 0.03940512\n",
      " 0.03927486 0.03851498 0.03690838 0.03560573 0.03818932 0.04993487\n",
      " 0.04950065 0.05384281 0.05123752 0.04971776 0.04667825 0.04407295\n",
      " 0.04250977 0.04211898 0.04765523 0.05015198 0.0588363  0.02856432\n",
      " 0.02854437 0.0278928  0.02668384 0.02509044 0.02328426 0.02139759\n",
      " 0.01951731 0.01769251 0.01594577 0.01428333]\n",
      "11 day output [[0.01270281]]\n",
      "12 day input [0.0295267  0.03087277 0.04168476 0.04689535 0.04580981 0.04342162\n",
      " 0.04170647 0.04450716 0.03899262 0.04146765 0.04027356 0.04164134\n",
      " 0.04259661 0.04394268 0.04711246 0.05775076 0.06752063 0.06704299\n",
      " 0.06721667 0.06122449 0.05666522 0.05798958 0.05555797 0.05102041\n",
      " 0.0453756  0.04908815 0.05102041 0.05036908 0.04950065 0.04524533\n",
      " 0.04320452 0.04470256 0.0435736  0.04209726 0.04255319 0.03929657\n",
      " 0.04231437 0.04689535 0.05427703 0.05169344 0.0514112  0.04928354\n",
      " 0.05334347 0.04880591 0.04559271 0.04472427 0.04274859 0.04385584\n",
      " 0.04580981 0.04363873 0.04385584 0.04515849 0.04620061 0.05970473\n",
      " 0.04826314 0.04363873 0.040165   0.03821103 0.03821103 0.03603995\n",
      " 0.03560573 0.03495441 0.032132   0.03169779 0.03165436 0.03148068\n",
      " 0.03059053 0.02993921 0.03100304 0.03601824 0.03940512 0.03927486\n",
      " 0.03851498 0.03690838 0.03560573 0.03818932 0.04993487 0.04950065\n",
      " 0.05384281 0.05123752 0.04971776 0.04667825 0.04407295 0.04250977\n",
      " 0.04211898 0.04765523 0.05015198 0.0588363  0.02856432 0.02854437\n",
      " 0.0278928  0.02668384 0.02509044 0.02328426 0.02139759 0.01951731\n",
      " 0.01769251 0.01594577 0.01428333 0.01270281]\n",
      "12 day output [[0.01119821]]\n",
      "13 day input [0.03087277 0.04168476 0.04689535 0.04580981 0.04342162 0.04170647\n",
      " 0.04450716 0.03899262 0.04146765 0.04027356 0.04164134 0.04259661\n",
      " 0.04394268 0.04711246 0.05775076 0.06752063 0.06704299 0.06721667\n",
      " 0.06122449 0.05666522 0.05798958 0.05555797 0.05102041 0.0453756\n",
      " 0.04908815 0.05102041 0.05036908 0.04950065 0.04524533 0.04320452\n",
      " 0.04470256 0.0435736  0.04209726 0.04255319 0.03929657 0.04231437\n",
      " 0.04689535 0.05427703 0.05169344 0.0514112  0.04928354 0.05334347\n",
      " 0.04880591 0.04559271 0.04472427 0.04274859 0.04385584 0.04580981\n",
      " 0.04363873 0.04385584 0.04515849 0.04620061 0.05970473 0.04826314\n",
      " 0.04363873 0.040165   0.03821103 0.03821103 0.03603995 0.03560573\n",
      " 0.03495441 0.032132   0.03169779 0.03165436 0.03148068 0.03059053\n",
      " 0.02993921 0.03100304 0.03601824 0.03940512 0.03927486 0.03851498\n",
      " 0.03690838 0.03560573 0.03818932 0.04993487 0.04950065 0.05384281\n",
      " 0.05123752 0.04971776 0.04667825 0.04407295 0.04250977 0.04211898\n",
      " 0.04765523 0.05015198 0.0588363  0.02856432 0.02854437 0.0278928\n",
      " 0.02668384 0.02509044 0.02328426 0.02139759 0.01951731 0.01769251\n",
      " 0.01594577 0.01428333 0.01270281 0.01119821]\n",
      "13 day output [[0.00976285]]\n",
      "14 day input [0.04168476 0.04689535 0.04580981 0.04342162 0.04170647 0.04450716\n",
      " 0.03899262 0.04146765 0.04027356 0.04164134 0.04259661 0.04394268\n",
      " 0.04711246 0.05775076 0.06752063 0.06704299 0.06721667 0.06122449\n",
      " 0.05666522 0.05798958 0.05555797 0.05102041 0.0453756  0.04908815\n",
      " 0.05102041 0.05036908 0.04950065 0.04524533 0.04320452 0.04470256\n",
      " 0.0435736  0.04209726 0.04255319 0.03929657 0.04231437 0.04689535\n",
      " 0.05427703 0.05169344 0.0514112  0.04928354 0.05334347 0.04880591\n",
      " 0.04559271 0.04472427 0.04274859 0.04385584 0.04580981 0.04363873\n",
      " 0.04385584 0.04515849 0.04620061 0.05970473 0.04826314 0.04363873\n",
      " 0.040165   0.03821103 0.03821103 0.03603995 0.03560573 0.03495441\n",
      " 0.032132   0.03169779 0.03165436 0.03148068 0.03059053 0.02993921\n",
      " 0.03100304 0.03601824 0.03940512 0.03927486 0.03851498 0.03690838\n",
      " 0.03560573 0.03818932 0.04993487 0.04950065 0.05384281 0.05123752\n",
      " 0.04971776 0.04667825 0.04407295 0.04250977 0.04211898 0.04765523\n",
      " 0.05015198 0.0588363  0.02856432 0.02854437 0.0278928  0.02668384\n",
      " 0.02509044 0.02328426 0.02139759 0.01951731 0.01769251 0.01594577\n",
      " 0.01428333 0.01270281 0.01119821 0.00976285]\n",
      "14 day output [[0.00839071]]\n",
      "15 day input [0.04689535 0.04580981 0.04342162 0.04170647 0.04450716 0.03899262\n",
      " 0.04146765 0.04027356 0.04164134 0.04259661 0.04394268 0.04711246\n",
      " 0.05775076 0.06752063 0.06704299 0.06721667 0.06122449 0.05666522\n",
      " 0.05798958 0.05555797 0.05102041 0.0453756  0.04908815 0.05102041\n",
      " 0.05036908 0.04950065 0.04524533 0.04320452 0.04470256 0.0435736\n",
      " 0.04209726 0.04255319 0.03929657 0.04231437 0.04689535 0.05427703\n",
      " 0.05169344 0.0514112  0.04928354 0.05334347 0.04880591 0.04559271\n",
      " 0.04472427 0.04274859 0.04385584 0.04580981 0.04363873 0.04385584\n",
      " 0.04515849 0.04620061 0.05970473 0.04826314 0.04363873 0.040165\n",
      " 0.03821103 0.03821103 0.03603995 0.03560573 0.03495441 0.032132\n",
      " 0.03169779 0.03165436 0.03148068 0.03059053 0.02993921 0.03100304\n",
      " 0.03601824 0.03940512 0.03927486 0.03851498 0.03690838 0.03560573\n",
      " 0.03818932 0.04993487 0.04950065 0.05384281 0.05123752 0.04971776\n",
      " 0.04667825 0.04407295 0.04250977 0.04211898 0.04765523 0.05015198\n",
      " 0.0588363  0.02856432 0.02854437 0.0278928  0.02668384 0.02509044\n",
      " 0.02328426 0.02139759 0.01951731 0.01769251 0.01594577 0.01428333\n",
      " 0.01270281 0.01119821 0.00976285 0.00839071]\n",
      "15 day output [[0.00707705]]\n",
      "16 day input [0.04580981 0.04342162 0.04170647 0.04450716 0.03899262 0.04146765\n",
      " 0.04027356 0.04164134 0.04259661 0.04394268 0.04711246 0.05775076\n",
      " 0.06752063 0.06704299 0.06721667 0.06122449 0.05666522 0.05798958\n",
      " 0.05555797 0.05102041 0.0453756  0.04908815 0.05102041 0.05036908\n",
      " 0.04950065 0.04524533 0.04320452 0.04470256 0.0435736  0.04209726\n",
      " 0.04255319 0.03929657 0.04231437 0.04689535 0.05427703 0.05169344\n",
      " 0.0514112  0.04928354 0.05334347 0.04880591 0.04559271 0.04472427\n",
      " 0.04274859 0.04385584 0.04580981 0.04363873 0.04385584 0.04515849\n",
      " 0.04620061 0.05970473 0.04826314 0.04363873 0.040165   0.03821103\n",
      " 0.03821103 0.03603995 0.03560573 0.03495441 0.032132   0.03169779\n",
      " 0.03165436 0.03148068 0.03059053 0.02993921 0.03100304 0.03601824\n",
      " 0.03940512 0.03927486 0.03851498 0.03690838 0.03560573 0.03818932\n",
      " 0.04993487 0.04950065 0.05384281 0.05123752 0.04971776 0.04667825\n",
      " 0.04407295 0.04250977 0.04211898 0.04765523 0.05015198 0.0588363\n",
      " 0.02856432 0.02854437 0.0278928  0.02668384 0.02509044 0.02328426\n",
      " 0.02139759 0.01951731 0.01769251 0.01594577 0.01428333 0.01270281\n",
      " 0.01119821 0.00976285 0.00839071 0.00707705]\n",
      "16 day output [[0.00581836]]\n",
      "17 day input [0.04342162 0.04170647 0.04450716 0.03899262 0.04146765 0.04027356\n",
      " 0.04164134 0.04259661 0.04394268 0.04711246 0.05775076 0.06752063\n",
      " 0.06704299 0.06721667 0.06122449 0.05666522 0.05798958 0.05555797\n",
      " 0.05102041 0.0453756  0.04908815 0.05102041 0.05036908 0.04950065\n",
      " 0.04524533 0.04320452 0.04470256 0.0435736  0.04209726 0.04255319\n",
      " 0.03929657 0.04231437 0.04689535 0.05427703 0.05169344 0.0514112\n",
      " 0.04928354 0.05334347 0.04880591 0.04559271 0.04472427 0.04274859\n",
      " 0.04385584 0.04580981 0.04363873 0.04385584 0.04515849 0.04620061\n",
      " 0.05970473 0.04826314 0.04363873 0.040165   0.03821103 0.03821103\n",
      " 0.03603995 0.03560573 0.03495441 0.032132   0.03169779 0.03165436\n",
      " 0.03148068 0.03059053 0.02993921 0.03100304 0.03601824 0.03940512\n",
      " 0.03927486 0.03851498 0.03690838 0.03560573 0.03818932 0.04993487\n",
      " 0.04950065 0.05384281 0.05123752 0.04971776 0.04667825 0.04407295\n",
      " 0.04250977 0.04211898 0.04765523 0.05015198 0.0588363  0.02856432\n",
      " 0.02854437 0.0278928  0.02668384 0.02509044 0.02328426 0.02139759\n",
      " 0.01951731 0.01769251 0.01594577 0.01428333 0.01270281 0.01119821\n",
      " 0.00976285 0.00839071 0.00707705 0.00581836]\n",
      "17 day output [[0.00461214]]\n",
      "18 day input [0.04170647 0.04450716 0.03899262 0.04146765 0.04027356 0.04164134\n",
      " 0.04259661 0.04394268 0.04711246 0.05775076 0.06752063 0.06704299\n",
      " 0.06721667 0.06122449 0.05666522 0.05798958 0.05555797 0.05102041\n",
      " 0.0453756  0.04908815 0.05102041 0.05036908 0.04950065 0.04524533\n",
      " 0.04320452 0.04470256 0.0435736  0.04209726 0.04255319 0.03929657\n",
      " 0.04231437 0.04689535 0.05427703 0.05169344 0.0514112  0.04928354\n",
      " 0.05334347 0.04880591 0.04559271 0.04472427 0.04274859 0.04385584\n",
      " 0.04580981 0.04363873 0.04385584 0.04515849 0.04620061 0.05970473\n",
      " 0.04826314 0.04363873 0.040165   0.03821103 0.03821103 0.03603995\n",
      " 0.03560573 0.03495441 0.032132   0.03169779 0.03165436 0.03148068\n",
      " 0.03059053 0.02993921 0.03100304 0.03601824 0.03940512 0.03927486\n",
      " 0.03851498 0.03690838 0.03560573 0.03818932 0.04993487 0.04950065\n",
      " 0.05384281 0.05123752 0.04971776 0.04667825 0.04407295 0.04250977\n",
      " 0.04211898 0.04765523 0.05015198 0.0588363  0.02856432 0.02854437\n",
      " 0.0278928  0.02668384 0.02509044 0.02328426 0.02139759 0.01951731\n",
      " 0.01769251 0.01594577 0.01428333 0.01270281 0.01119821 0.00976285\n",
      " 0.00839071 0.00707705 0.00581836 0.00461214]\n",
      "18 day output [[0.00345663]]\n",
      "19 day input [0.04450716 0.03899262 0.04146765 0.04027356 0.04164134 0.04259661\n",
      " 0.04394268 0.04711246 0.05775076 0.06752063 0.06704299 0.06721667\n",
      " 0.06122449 0.05666522 0.05798958 0.05555797 0.05102041 0.0453756\n",
      " 0.04908815 0.05102041 0.05036908 0.04950065 0.04524533 0.04320452\n",
      " 0.04470256 0.0435736  0.04209726 0.04255319 0.03929657 0.04231437\n",
      " 0.04689535 0.05427703 0.05169344 0.0514112  0.04928354 0.05334347\n",
      " 0.04880591 0.04559271 0.04472427 0.04274859 0.04385584 0.04580981\n",
      " 0.04363873 0.04385584 0.04515849 0.04620061 0.05970473 0.04826314\n",
      " 0.04363873 0.040165   0.03821103 0.03821103 0.03603995 0.03560573\n",
      " 0.03495441 0.032132   0.03169779 0.03165436 0.03148068 0.03059053\n",
      " 0.02993921 0.03100304 0.03601824 0.03940512 0.03927486 0.03851498\n",
      " 0.03690838 0.03560573 0.03818932 0.04993487 0.04950065 0.05384281\n",
      " 0.05123752 0.04971776 0.04667825 0.04407295 0.04250977 0.04211898\n",
      " 0.04765523 0.05015198 0.0588363  0.02856432 0.02854437 0.0278928\n",
      " 0.02668384 0.02509044 0.02328426 0.02139759 0.01951731 0.01769251\n",
      " 0.01594577 0.01428333 0.01270281 0.01119821 0.00976285 0.00839071\n",
      " 0.00707705 0.00581836 0.00461214 0.00345663]\n",
      "19 day output [[0.00235053]]\n",
      "20 day input [0.03899262 0.04146765 0.04027356 0.04164134 0.04259661 0.04394268\n",
      " 0.04711246 0.05775076 0.06752063 0.06704299 0.06721667 0.06122449\n",
      " 0.05666522 0.05798958 0.05555797 0.05102041 0.0453756  0.04908815\n",
      " 0.05102041 0.05036908 0.04950065 0.04524533 0.04320452 0.04470256\n",
      " 0.0435736  0.04209726 0.04255319 0.03929657 0.04231437 0.04689535\n",
      " 0.05427703 0.05169344 0.0514112  0.04928354 0.05334347 0.04880591\n",
      " 0.04559271 0.04472427 0.04274859 0.04385584 0.04580981 0.04363873\n",
      " 0.04385584 0.04515849 0.04620061 0.05970473 0.04826314 0.04363873\n",
      " 0.040165   0.03821103 0.03821103 0.03603995 0.03560573 0.03495441\n",
      " 0.032132   0.03169779 0.03165436 0.03148068 0.03059053 0.02993921\n",
      " 0.03100304 0.03601824 0.03940512 0.03927486 0.03851498 0.03690838\n",
      " 0.03560573 0.03818932 0.04993487 0.04950065 0.05384281 0.05123752\n",
      " 0.04971776 0.04667825 0.04407295 0.04250977 0.04211898 0.04765523\n",
      " 0.05015198 0.0588363  0.02856432 0.02854437 0.0278928  0.02668384\n",
      " 0.02509044 0.02328426 0.02139759 0.01951731 0.01769251 0.01594577\n",
      " 0.01428333 0.01270281 0.01119821 0.00976285 0.00839071 0.00707705\n",
      " 0.00581836 0.00461214 0.00345663 0.00235053]\n",
      "20 day output [[0.00129277]]\n",
      "21 day input [0.04146765 0.04027356 0.04164134 0.04259661 0.04394268 0.04711246\n",
      " 0.05775076 0.06752063 0.06704299 0.06721667 0.06122449 0.05666522\n",
      " 0.05798958 0.05555797 0.05102041 0.0453756  0.04908815 0.05102041\n",
      " 0.05036908 0.04950065 0.04524533 0.04320452 0.04470256 0.0435736\n",
      " 0.04209726 0.04255319 0.03929657 0.04231437 0.04689535 0.05427703\n",
      " 0.05169344 0.0514112  0.04928354 0.05334347 0.04880591 0.04559271\n",
      " 0.04472427 0.04274859 0.04385584 0.04580981 0.04363873 0.04385584\n",
      " 0.04515849 0.04620061 0.05970473 0.04826314 0.04363873 0.040165\n",
      " 0.03821103 0.03821103 0.03603995 0.03560573 0.03495441 0.032132\n",
      " 0.03169779 0.03165436 0.03148068 0.03059053 0.02993921 0.03100304\n",
      " 0.03601824 0.03940512 0.03927486 0.03851498 0.03690838 0.03560573\n",
      " 0.03818932 0.04993487 0.04950065 0.05384281 0.05123752 0.04971776\n",
      " 0.04667825 0.04407295 0.04250977 0.04211898 0.04765523 0.05015198\n",
      " 0.0588363  0.02856432 0.02854437 0.0278928  0.02668384 0.02509044\n",
      " 0.02328426 0.02139759 0.01951731 0.01769251 0.01594577 0.01428333\n",
      " 0.01270281 0.01119821 0.00976285 0.00839071 0.00707705 0.00581836\n",
      " 0.00461214 0.00345663 0.00235053 0.00129277]\n",
      "21 day output [[0.00028236]]\n",
      "22 day input [0.04027356 0.04164134 0.04259661 0.04394268 0.04711246 0.05775076\n",
      " 0.06752063 0.06704299 0.06721667 0.06122449 0.05666522 0.05798958\n",
      " 0.05555797 0.05102041 0.0453756  0.04908815 0.05102041 0.05036908\n",
      " 0.04950065 0.04524533 0.04320452 0.04470256 0.0435736  0.04209726\n",
      " 0.04255319 0.03929657 0.04231437 0.04689535 0.05427703 0.05169344\n",
      " 0.0514112  0.04928354 0.05334347 0.04880591 0.04559271 0.04472427\n",
      " 0.04274859 0.04385584 0.04580981 0.04363873 0.04385584 0.04515849\n",
      " 0.04620061 0.05970473 0.04826314 0.04363873 0.040165   0.03821103\n",
      " 0.03821103 0.03603995 0.03560573 0.03495441 0.032132   0.03169779\n",
      " 0.03165436 0.03148068 0.03059053 0.02993921 0.03100304 0.03601824\n",
      " 0.03940512 0.03927486 0.03851498 0.03690838 0.03560573 0.03818932\n",
      " 0.04993487 0.04950065 0.05384281 0.05123752 0.04971776 0.04667825\n",
      " 0.04407295 0.04250977 0.04211898 0.04765523 0.05015198 0.0588363\n",
      " 0.02856432 0.02854437 0.0278928  0.02668384 0.02509044 0.02328426\n",
      " 0.02139759 0.01951731 0.01769251 0.01594577 0.01428333 0.01270281\n",
      " 0.01119821 0.00976285 0.00839071 0.00707705 0.00581836 0.00461214\n",
      " 0.00345663 0.00235053 0.00129277 0.00028236]\n",
      "22 day output [[-0.00068176]]\n",
      "23 day input [ 0.04164134  0.04259661  0.04394268  0.04711246  0.05775076  0.06752063\n",
      "  0.06704299  0.06721667  0.06122449  0.05666522  0.05798958  0.05555797\n",
      "  0.05102041  0.0453756   0.04908815  0.05102041  0.05036908  0.04950065\n",
      "  0.04524533  0.04320452  0.04470256  0.0435736   0.04209726  0.04255319\n",
      "  0.03929657  0.04231437  0.04689535  0.05427703  0.05169344  0.0514112\n",
      "  0.04928354  0.05334347  0.04880591  0.04559271  0.04472427  0.04274859\n",
      "  0.04385584  0.04580981  0.04363873  0.04385584  0.04515849  0.04620061\n",
      "  0.05970473  0.04826314  0.04363873  0.040165    0.03821103  0.03821103\n",
      "  0.03603995  0.03560573  0.03495441  0.032132    0.03169779  0.03165436\n",
      "  0.03148068  0.03059053  0.02993921  0.03100304  0.03601824  0.03940512\n",
      "  0.03927486  0.03851498  0.03690838  0.03560573  0.03818932  0.04993487\n",
      "  0.04950065  0.05384281  0.05123752  0.04971776  0.04667825  0.04407295\n",
      "  0.04250977  0.04211898  0.04765523  0.05015198  0.0588363   0.02856432\n",
      "  0.02854437  0.0278928   0.02668384  0.02509044  0.02328426  0.02139759\n",
      "  0.01951731  0.01769251  0.01594577  0.01428333  0.01270281  0.01119821\n",
      "  0.00976285  0.00839071  0.00707705  0.00581836  0.00461214  0.00345663\n",
      "  0.00235053  0.00129277  0.00028236 -0.00068176]\n",
      "23 day output [[-0.00160075]]\n",
      "24 day input [ 0.04259661  0.04394268  0.04711246  0.05775076  0.06752063  0.06704299\n",
      "  0.06721667  0.06122449  0.05666522  0.05798958  0.05555797  0.05102041\n",
      "  0.0453756   0.04908815  0.05102041  0.05036908  0.04950065  0.04524533\n",
      "  0.04320452  0.04470256  0.0435736   0.04209726  0.04255319  0.03929657\n",
      "  0.04231437  0.04689535  0.05427703  0.05169344  0.0514112   0.04928354\n",
      "  0.05334347  0.04880591  0.04559271  0.04472427  0.04274859  0.04385584\n",
      "  0.04580981  0.04363873  0.04385584  0.04515849  0.04620061  0.05970473\n",
      "  0.04826314  0.04363873  0.040165    0.03821103  0.03821103  0.03603995\n",
      "  0.03560573  0.03495441  0.032132    0.03169779  0.03165436  0.03148068\n",
      "  0.03059053  0.02993921  0.03100304  0.03601824  0.03940512  0.03927486\n",
      "  0.03851498  0.03690838  0.03560573  0.03818932  0.04993487  0.04950065\n",
      "  0.05384281  0.05123752  0.04971776  0.04667825  0.04407295  0.04250977\n",
      "  0.04211898  0.04765523  0.05015198  0.0588363   0.02856432  0.02854437\n",
      "  0.0278928   0.02668384  0.02509044  0.02328426  0.02139759  0.01951731\n",
      "  0.01769251  0.01594577  0.01428333  0.01270281  0.01119821  0.00976285\n",
      "  0.00839071  0.00707705  0.00581836  0.00461214  0.00345663  0.00235053\n",
      "  0.00129277  0.00028236 -0.00068176 -0.00160075]\n",
      "24 day output [[-0.00247593]]\n",
      "25 day input [ 0.04394268  0.04711246  0.05775076  0.06752063  0.06704299  0.06721667\n",
      "  0.06122449  0.05666522  0.05798958  0.05555797  0.05102041  0.0453756\n",
      "  0.04908815  0.05102041  0.05036908  0.04950065  0.04524533  0.04320452\n",
      "  0.04470256  0.0435736   0.04209726  0.04255319  0.03929657  0.04231437\n",
      "  0.04689535  0.05427703  0.05169344  0.0514112   0.04928354  0.05334347\n",
      "  0.04880591  0.04559271  0.04472427  0.04274859  0.04385584  0.04580981\n",
      "  0.04363873  0.04385584  0.04515849  0.04620061  0.05970473  0.04826314\n",
      "  0.04363873  0.040165    0.03821103  0.03821103  0.03603995  0.03560573\n",
      "  0.03495441  0.032132    0.03169779  0.03165436  0.03148068  0.03059053\n",
      "  0.02993921  0.03100304  0.03601824  0.03940512  0.03927486  0.03851498\n",
      "  0.03690838  0.03560573  0.03818932  0.04993487  0.04950065  0.05384281\n",
      "  0.05123752  0.04971776  0.04667825  0.04407295  0.04250977  0.04211898\n",
      "  0.04765523  0.05015198  0.0588363   0.02856432  0.02854437  0.0278928\n",
      "  0.02668384  0.02509044  0.02328426  0.02139759  0.01951731  0.01769251\n",
      "  0.01594577  0.01428333  0.01270281  0.01119821  0.00976285  0.00839071\n",
      "  0.00707705  0.00581836  0.00461214  0.00345663  0.00235053  0.00129277\n",
      "  0.00028236 -0.00068176 -0.00160075 -0.00247593]\n",
      "25 day output [[-0.00330881]]\n",
      "26 day input [ 0.04711246  0.05775076  0.06752063  0.06704299  0.06721667  0.06122449\n",
      "  0.05666522  0.05798958  0.05555797  0.05102041  0.0453756   0.04908815\n",
      "  0.05102041  0.05036908  0.04950065  0.04524533  0.04320452  0.04470256\n",
      "  0.0435736   0.04209726  0.04255319  0.03929657  0.04231437  0.04689535\n",
      "  0.05427703  0.05169344  0.0514112   0.04928354  0.05334347  0.04880591\n",
      "  0.04559271  0.04472427  0.04274859  0.04385584  0.04580981  0.04363873\n",
      "  0.04385584  0.04515849  0.04620061  0.05970473  0.04826314  0.04363873\n",
      "  0.040165    0.03821103  0.03821103  0.03603995  0.03560573  0.03495441\n",
      "  0.032132    0.03169779  0.03165436  0.03148068  0.03059053  0.02993921\n",
      "  0.03100304  0.03601824  0.03940512  0.03927486  0.03851498  0.03690838\n",
      "  0.03560573  0.03818932  0.04993487  0.04950065  0.05384281  0.05123752\n",
      "  0.04971776  0.04667825  0.04407295  0.04250977  0.04211898  0.04765523\n",
      "  0.05015198  0.0588363   0.02856432  0.02854437  0.0278928   0.02668384\n",
      "  0.02509044  0.02328426  0.02139759  0.01951731  0.01769251  0.01594577\n",
      "  0.01428333  0.01270281  0.01119821  0.00976285  0.00839071  0.00707705\n",
      "  0.00581836  0.00461214  0.00345663  0.00235053  0.00129277  0.00028236\n",
      " -0.00068176 -0.00160075 -0.00247593 -0.00330881]\n",
      "26 day output [[-0.00410099]]\n",
      "27 day input [ 0.05775076  0.06752063  0.06704299  0.06721667  0.06122449  0.05666522\n",
      "  0.05798958  0.05555797  0.05102041  0.0453756   0.04908815  0.05102041\n",
      "  0.05036908  0.04950065  0.04524533  0.04320452  0.04470256  0.0435736\n",
      "  0.04209726  0.04255319  0.03929657  0.04231437  0.04689535  0.05427703\n",
      "  0.05169344  0.0514112   0.04928354  0.05334347  0.04880591  0.04559271\n",
      "  0.04472427  0.04274859  0.04385584  0.04580981  0.04363873  0.04385584\n",
      "  0.04515849  0.04620061  0.05970473  0.04826314  0.04363873  0.040165\n",
      "  0.03821103  0.03821103  0.03603995  0.03560573  0.03495441  0.032132\n",
      "  0.03169779  0.03165436  0.03148068  0.03059053  0.02993921  0.03100304\n",
      "  0.03601824  0.03940512  0.03927486  0.03851498  0.03690838  0.03560573\n",
      "  0.03818932  0.04993487  0.04950065  0.05384281  0.05123752  0.04971776\n",
      "  0.04667825  0.04407295  0.04250977  0.04211898  0.04765523  0.05015198\n",
      "  0.0588363   0.02856432  0.02854437  0.0278928   0.02668384  0.02509044\n",
      "  0.02328426  0.02139759  0.01951731  0.01769251  0.01594577  0.01428333\n",
      "  0.01270281  0.01119821  0.00976285  0.00839071  0.00707705  0.00581836\n",
      "  0.00461214  0.00345663  0.00235053  0.00129277  0.00028236 -0.00068176\n",
      " -0.00160075 -0.00247593 -0.00330881 -0.00410099]\n",
      "27 day output [[-0.00485423]]\n",
      "28 day input [ 0.06752063  0.06704299  0.06721667  0.06122449  0.05666522  0.05798958\n",
      "  0.05555797  0.05102041  0.0453756   0.04908815  0.05102041  0.05036908\n",
      "  0.04950065  0.04524533  0.04320452  0.04470256  0.0435736   0.04209726\n",
      "  0.04255319  0.03929657  0.04231437  0.04689535  0.05427703  0.05169344\n",
      "  0.0514112   0.04928354  0.05334347  0.04880591  0.04559271  0.04472427\n",
      "  0.04274859  0.04385584  0.04580981  0.04363873  0.04385584  0.04515849\n",
      "  0.04620061  0.05970473  0.04826314  0.04363873  0.040165    0.03821103\n",
      "  0.03821103  0.03603995  0.03560573  0.03495441  0.032132    0.03169779\n",
      "  0.03165436  0.03148068  0.03059053  0.02993921  0.03100304  0.03601824\n",
      "  0.03940512  0.03927486  0.03851498  0.03690838  0.03560573  0.03818932\n",
      "  0.04993487  0.04950065  0.05384281  0.05123752  0.04971776  0.04667825\n",
      "  0.04407295  0.04250977  0.04211898  0.04765523  0.05015198  0.0588363\n",
      "  0.02856432  0.02854437  0.0278928   0.02668384  0.02509044  0.02328426\n",
      "  0.02139759  0.01951731  0.01769251  0.01594577  0.01428333  0.01270281\n",
      "  0.01119821  0.00976285  0.00839071  0.00707705  0.00581836  0.00461214\n",
      "  0.00345663  0.00235053  0.00129277  0.00028236 -0.00068176 -0.00160075\n",
      " -0.00247593 -0.00330881 -0.00410099 -0.00485423]\n",
      "28 day output [[-0.00557039]]\n",
      "29 day input [ 0.06704299  0.06721667  0.06122449  0.05666522  0.05798958  0.05555797\n",
      "  0.05102041  0.0453756   0.04908815  0.05102041  0.05036908  0.04950065\n",
      "  0.04524533  0.04320452  0.04470256  0.0435736   0.04209726  0.04255319\n",
      "  0.03929657  0.04231437  0.04689535  0.05427703  0.05169344  0.0514112\n",
      "  0.04928354  0.05334347  0.04880591  0.04559271  0.04472427  0.04274859\n",
      "  0.04385584  0.04580981  0.04363873  0.04385584  0.04515849  0.04620061\n",
      "  0.05970473  0.04826314  0.04363873  0.040165    0.03821103  0.03821103\n",
      "  0.03603995  0.03560573  0.03495441  0.032132    0.03169779  0.03165436\n",
      "  0.03148068  0.03059053  0.02993921  0.03100304  0.03601824  0.03940512\n",
      "  0.03927486  0.03851498  0.03690838  0.03560573  0.03818932  0.04993487\n",
      "  0.04950065  0.05384281  0.05123752  0.04971776  0.04667825  0.04407295\n",
      "  0.04250977  0.04211898  0.04765523  0.05015198  0.0588363   0.02856432\n",
      "  0.02854437  0.0278928   0.02668384  0.02509044  0.02328426  0.02139759\n",
      "  0.01951731  0.01769251  0.01594577  0.01428333  0.01270281  0.01119821\n",
      "  0.00976285  0.00839071  0.00707705  0.00581836  0.00461214  0.00345663\n",
      "  0.00235053  0.00129277  0.00028236 -0.00068176 -0.00160075 -0.00247593\n",
      " -0.00330881 -0.00410099 -0.00485423 -0.00557039]\n",
      "29 day output [[-0.00625134]]\n",
      "[[0.028564322739839554], [0.028544370085000992], [0.02789280191063881], [0.026683837175369263], [0.02509043738245964], [0.023284263908863068], [0.02139759249985218], [0.019517308101058006], [0.017692508175969124], [0.015945766121149063], [0.01428332831710577], [0.01270280685275793], [0.011198212392628193], [0.009762847796082497], [0.00839070975780487], [0.0070770541206002235], [0.005818359553813934], [0.004612144082784653], [0.0034566279500722885], [0.0023505277931690216], [0.0012927679345011711], [0.00028236210346221924], [-0.0006817569956183434], [-0.001600748859345913], [-0.0024759331718087196], [-0.003308807499706745], [-0.00410099234431982], [-0.004854234866797924], [-0.005570386536419392], [-0.00625134352594614]]\n"
     ]
    }
   ],
   "source": [
    "from numpy import array \n",
    "\n",
    "output_lst = []\n",
    "n_steps = 100\n",
    "i = 0\n",
    "while (i < 30):\n",
    "    if(len(temp_input)>100):\n",
    "        #print(temp_input)\n",
    "        x_input=np.array(temp_input[1:])\n",
    "        print(\"{} day input {}\".format(i,x_input))\n",
    "        x_input=x_input.reshape(1,-1)\n",
    "        x_input=x_input.reshape((1, n_steps, 1))\n",
    "        #print(x_input)\n",
    "        yhat = model.predict(x_input, verbose=0)\n",
    "        print(\"{} day output {}\".format(i,yhat))\n",
    "        temp_input.extend(yhat[0].tolist())\n",
    "        temp_input=temp_input[1:]\n",
    "        #print(temp_input)\n",
    "        output_lst.extend(yhat.tolist())\n",
    "        i=i+1\n",
    "    else:\n",
    "        x_input = x_input.reshape((1, n_steps,1))\n",
    "        yhat = model.predict(x_input, verbose=0)\n",
    "        print(yhat[0])\n",
    "        temp_input.extend(yhat[0].tolist())\n",
    "        print(len(temp_input))\n",
    "        output_lst.extend(yhat.tolist())\n",
    "        i=i+1\n",
    "print(output_lst)"
   ]
  },
  {
   "cell_type": "code",
   "execution_count": 56,
   "metadata": {},
   "outputs": [],
   "source": [
    "train_day = np.arange(1, 101)\n",
    "test_day = np.arange(101, 131) "
   ]
  },
  {
   "cell_type": "code",
   "execution_count": 57,
   "metadata": {},
   "outputs": [],
   "source": [
    "import matplotlib.pyplot as plt "
   ]
  },
  {
   "cell_type": "code",
   "execution_count": 58,
   "metadata": {},
   "outputs": [
    {
     "data": {
      "text/plain": [
       "1159"
      ]
     },
     "execution_count": 58,
     "metadata": {},
     "output_type": "execute_result"
    }
   ],
   "source": [
    "len(df_h)"
   ]
  },
  {
   "cell_type": "code",
   "execution_count": 59,
   "metadata": {},
   "outputs": [
    {
     "data": {
      "text/plain": [
       "[<matplotlib.lines.Line2D at 0x1f3fc06bbc8>]"
      ]
     },
     "execution_count": 59,
     "metadata": {},
     "output_type": "execute_result"
    },
    {
     "data": {
      "image/png": "[encoded data removed]",
      "text/plain": [
       "<Figure size 432x288 with 1 Axes>"
      ]
     },
     "metadata": {
      "needs_background": "light"
     },
     "output_type": "display_data"
    }
   ],
   "source": [
    "plt.plot(train_day,scaler.inverse_transform(df_h[1059:]))\n",
    "plt.plot(test_day,scaler.inverse_transform(output_lst))"
   ]
  },
  {
   "cell_type": "code",
   "execution_count": 60,
   "metadata": {},
   "outputs": [
    {
     "data": {
      "text/plain": [
       "[<matplotlib.lines.Line2D at 0x1f3fc133948>]"
      ]
     },
     "execution_count": 60,
     "metadata": {},
     "output_type": "execute_result"
    },
    {
     "data": {
      "image/png": "[encoded data removed]",
      "text/plain": [
       "<Figure size 432x288 with 1 Axes>"
      ]
     },
     "metadata": {
      "needs_background": "light"
     },
     "output_type": "display_data"
    }
   ],
   "source": [
    "df_final = df_h.tolist()\n",
    "df_final.extend(output_lst)\n",
    "plt.plot(df_final[1059:])"
   ]
  },
  {
   "cell_type": "code",
   "execution_count": 61,
   "metadata": {},
   "outputs": [],
   "source": [
    "df_final = scaler.inverse_transform(df_final).tolist()"
   ]
  },
  {
   "cell_type": "code",
   "execution_count": 62,
   "metadata": {},
   "outputs": [
    {
     "data": {
      "text/plain": [
       "[[907.6],\n",
       " [907.6],\n",
       " [932.0],\n",
       " [935.0],\n",
       " [964.0],\n",
       " [985.0],\n",
       " [970.0],\n",
       " [970.0],\n",
       " [958.0],\n",
       " [963.0],\n",
       " [957.4],\n",
       " [1000.0],\n",
       " [1030.0],\n",
       " [1036.2],\n",
       " [1086.0],\n",
       " [1110.0],\n",
       " [1105.0],\n",
       " [1094.0],\n",
       " [1086.1],\n",
       " [1099.0],\n",
       " [1073.6],\n",
       " [1085.0],\n",
       " [1079.5],\n",
       " [1085.8],\n",
       " [1090.2],\n",
       " [1096.4],\n",
       " [1111.0],\n",
       " [1160.0],\n",
       " [1205.0],\n",
       " [1202.8],\n",
       " [1203.6],\n",
       " [1176.0000000000002],\n",
       " [1155.0],\n",
       " [1161.1],\n",
       " [1149.9],\n",
       " [1129.0],\n",
       " [1103.0],\n",
       " [1120.1],\n",
       " [1129.0],\n",
       " [1126.0],\n",
       " [1122.0],\n",
       " [1102.4],\n",
       " [1093.0],\n",
       " [1099.9],\n",
       " [1094.7],\n",
       " [1087.9],\n",
       " [1090.0],\n",
       " [1075.0],\n",
       " [1088.9],\n",
       " [1110.0],\n",
       " [1144.0],\n",
       " [1132.1],\n",
       " [1130.8],\n",
       " [1121.0],\n",
       " [1139.7],\n",
       " [1118.8],\n",
       " [1104.0],\n",
       " [1100.0],\n",
       " [1090.9],\n",
       " [1096.0],\n",
       " [1105.0],\n",
       " [1095.0],\n",
       " [1096.0],\n",
       " [1102.0],\n",
       " [1106.8],\n",
       " [1169.0],\n",
       " [1116.3],\n",
       " [1095.0],\n",
       " [1079.0],\n",
       " [1070.0],\n",
       " [1070.0],\n",
       " [1060.0],\n",
       " [1058.0],\n",
       " [1055.0],\n",
       " [1042.0],\n",
       " [1040.0],\n",
       " [1039.8],\n",
       " [1039.0],\n",
       " [1034.9],\n",
       " [1031.9],\n",
       " [1036.8],\n",
       " [1059.9],\n",
       " [1075.5],\n",
       " [1074.9],\n",
       " [1071.4],\n",
       " [1064.0],\n",
       " [1058.0],\n",
       " [1069.9],\n",
       " [1124.0],\n",
       " [1122.0],\n",
       " [1142.0],\n",
       " [1130.0],\n",
       " [1123.0],\n",
       " [1109.0],\n",
       " [1097.0],\n",
       " [1089.8],\n",
       " [1088.0],\n",
       " [1113.5],\n",
       " [1125.0],\n",
       " [1165.0],\n",
       " [1025.567270539701],\n",
       " [1025.4753686115146],\n",
       " [1022.4742456004024],\n",
       " [1016.9057540297508],\n",
       " [1009.5665545836091],\n",
       " [1001.2473195642233],\n",
       " [992.5573110543191],\n",
       " [983.8967211134732],\n",
       " [975.4916926585138],\n",
       " [967.4461987540126],\n",
       " [959.7890102285892],\n",
       " [952.509128363803],\n",
       " [945.5789662804455],\n",
       " [938.967676948756],\n",
       " [932.6476091444492],\n",
       " [926.5969112794846],\n",
       " [920.799364104867],\n",
       " [915.2435356453061],\n",
       " [909.921228338033],\n",
       " [904.8265310153365],\n",
       " [899.9544891063124],\n",
       " [895.300559848547],\n",
       " [890.8598272781819],\n",
       " [886.6269507538527],\n",
       " [882.595851810649],\n",
       " [878.7596326563507],\n",
       " [875.1108292620629],\n",
       " [871.6413942035288],\n",
       " [868.3427996132523],\n",
       " [865.2063117194921]]"
      ]
     },
     "execution_count": 62,
     "metadata": {},
     "output_type": "execute_result"
    }
   ],
   "source": [
    "df_final[1059:]"
   ]
  },
  {
   "cell_type": "code",
   "execution_count": 64,
   "metadata": {},
   "outputs": [
    {
     "data": {
      "text/plain": [
       "[<matplotlib.lines.Line2D at 0x1f3fd25d088>]"
      ]
     },
     "execution_count": 64,
     "metadata": {},
     "output_type": "execute_result"
    },
    {
     "data": {
      "image/png": "[encoded data removed]",
      "text/plain": [
       "<Figure size 432x288 with 1 Axes>"
      ]
     },
     "metadata": {
      "needs_background": "light"
     },
     "output_type": "display_data"
    }
   ],
   "source": [
    "plt.plot(df_final[1159:])"
   ]
  },
  {
   "cell_type": "code",
   "execution_count": 65,
   "metadata": {},
   "outputs": [
    {
     "data": {
      "image/png": "[encoded data removed]",
      "text/plain": [
       "<Figure size 1008x360 with 1 Axes>"
      ]
     },
     "metadata": {
      "needs_background": "light"
     },
     "output_type": "display_data"
    }
   ],
   "source": [
    "plt.figure(figsize = (14,5))\n",
    "plt.plot(y_test[1059:], color = 'red', label = 'Real CAT Stock Price')\n",
    "plt.plot(df_final[1059:], color = 'blue', label = 'Predicted CAT Stock price')\n",
    "plt.title('Caterpillar Stock Price Prediction')\n",
    "plt.xlabel('Time')\n",
    "plt.ylabel('CAT Stock Price')\n",
    "plt.legend()\n",
    "plt.show()"
   ]
  },
  {
   "cell_type": "code",
   "execution_count": null,
   "metadata": {},
   "outputs": [],
   "source": []
  }
 ],
 "metadata": {
  "kernelspec": {
   "display_name": "Python 3",
   "language": "python",
   "name": "python3"
  },
  "language_info": {
   "codemirror_mode": {
    "name": "ipython",
    "version": 3
   },
   "file_extension": ".py",
   "mimetype": "text/x-python",
   "name": "python",
   "nbconvert_exporter": "python",
   "pygments_lexer": "ipython3",
   "version": "3.7.6"
  }
 },
 "nbformat": 4,
 "nbformat_minor": 4
}
